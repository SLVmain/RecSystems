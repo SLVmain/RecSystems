{
 "cells": [
  {
   "cell_type": "markdown",
   "metadata": {
    "id": "AnG9DXhe49cH"
   },
   "source": [
    "## Теоретическая часть"
   ]
  },
  {
   "cell_type": "markdown",
   "metadata": {
    "id": "RxDIQTAh49cO"
   },
   "source": [
    "**1. Вспомним прошлый вебинар, мы рассматривали User-User рекомендации и Item-Item рекомендации. Чем они отличаются и чем они похожи?**\n",
    "\n",
    "Отличия: User-User ищем похожих пользователей, рекомендуем товары похожих пользователей\n",
    "\n",
    "Item-Item находим элементы, похожие на те, с которыми пользователь уже «положительно» взаимодействовал\n",
    "\n",
    "Похожи: структурой матрицы (Квадратные, на пересечении будут совпавшие товары или пользователи). \n",
    "\n",
    "**Если есть функция item_item_rec(interaction_matrix). Можно ли использовать эту функцию для user_user_rec?**\n",
    "\n",
    "Можно, но нужно транспорнировать матрицу, пользователи - строки, столбцы - товары.\n",
    "\n",
    "**В чем принципиальные отличия item-item рекомендаций от ALS?**\n",
    "\n",
    "item-item - алгоритм К ближайших соседей, а ALS - Градиентного спуск. \n",
    "ALS быстрее и меньше места занимает, так как разбивает на 2 матрицы. ALS заполняет пропуски в матрице взаимодействия, item-item нет."
   ]
  },
  {
   "cell_type": "markdown",
   "metadata": {
    "id": "XnuQ5DDD49cP"
   },
   "source": [
    "**2. Приведите 3 примера весов (те, которых не было на вебинаре: сумма покупок, количество покупок - неинтересно) user-item матрицы для задачи рекомендаций товаров**\n",
    "\n",
    "частота покупок, длительность взаимодействия (нахождения на странице товара, просмотр видео и тд), количество взаимодействия,\n",
    "добавление в корзину"
   ]
  },
  {
   "cell_type": "markdown",
   "metadata": {
    "id": "UmKifKo649cQ"
   },
   "source": [
    "**3. Какие ограничения есть у ALS? (Тип информации, линейность/нелинейность факторов и т д)**\n",
    "\n",
    "учитывает только, если было взаимодействие пользователь-товар и наоборот\n",
    "\n",
    "не учитывает нелинейные зависимости\n"
   ]
  },
  {
   "cell_type": "markdown",
   "metadata": {
    "id": "ZFhlzsTb49cR"
   },
   "source": [
    "## Практическая часть\n"
   ]
  },
  {
   "cell_type": "code",
   "execution_count": 181,
   "metadata": {
    "colab": {
     "base_uri": "https://localhost:8080/"
    },
    "executionInfo": {
     "elapsed": 178234,
     "status": "ok",
     "timestamp": 1634549148220,
     "user": {
      "displayName": "Николай -",
      "photoUrl": "https://lh3.googleusercontent.com/a-/AOh14GiCS90olAsBznR3WLZOaJ5ukcv2LPYBRWvHEQUZ-A=s64",
      "userId": "17372739142422056321"
     },
     "user_tz": -180
    },
    "id": "ju-hv9oJtakN",
    "outputId": "d6e7bec4-09fb-441f-9f60-5842db15f3d0"
   },
   "outputs": [],
   "source": [
    "#!pip install implicit"
   ]
  },
  {
   "cell_type": "code",
   "execution_count": 182,
   "metadata": {
    "executionInfo": {
     "elapsed": 679,
     "status": "ok",
     "timestamp": 1634549186912,
     "user": {
      "displayName": "Николай -",
      "photoUrl": "https://lh3.googleusercontent.com/a-/AOh14GiCS90olAsBznR3WLZOaJ5ukcv2LPYBRWvHEQUZ-A=s64",
      "userId": "17372739142422056321"
     },
     "user_tz": -180
    },
    "id": "qI6TyXCL49cS"
   },
   "outputs": [],
   "source": [
    "import pandas as pd\n",
    "import numpy as np\n",
    "import matplotlib.pyplot as plt\n",
    "%matplotlib inline\n",
    "\n",
    "# Для работы с матрицами\n",
    "from scipy.sparse import csr_matrix\n",
    "\n",
    "# Матричная факторизация\n",
    "from implicit.als import AlternatingLeastSquares\n",
    "from implicit.nearest_neighbours import bm25_weight, tfidf_weight\n",
    "\n",
    "# Функции из 1-ого вебинара\n",
    "import os, sys\n"
   ]
  },
  {
   "cell_type": "code",
   "execution_count": 183,
   "metadata": {
    "colab": {
     "base_uri": "https://localhost:8080/",
     "height": 111
    },
    "executionInfo": {
     "elapsed": 4557,
     "status": "ok",
     "timestamp": 1634549218008,
     "user": {
      "displayName": "Николай -",
      "photoUrl": "https://lh3.googleusercontent.com/a-/AOh14GiCS90olAsBznR3WLZOaJ5ukcv2LPYBRWvHEQUZ-A=s64",
      "userId": "17372739142422056321"
     },
     "user_tz": -180
    },
    "id": "LsYDeTEC49cU",
    "outputId": "d1246437-ea35-456e-b859-cca0b9abc21f"
   },
   "outputs": [
    {
     "data": {
      "text/html": [
       "<div>\n",
       "<style scoped>\n",
       "    .dataframe tbody tr th:only-of-type {\n",
       "        vertical-align: middle;\n",
       "    }\n",
       "\n",
       "    .dataframe tbody tr th {\n",
       "        vertical-align: top;\n",
       "    }\n",
       "\n",
       "    .dataframe thead th {\n",
       "        text-align: right;\n",
       "    }\n",
       "</style>\n",
       "<table border=\"1\" class=\"dataframe\">\n",
       "  <thead>\n",
       "    <tr style=\"text-align: right;\">\n",
       "      <th></th>\n",
       "      <th>user_id</th>\n",
       "      <th>basket_id</th>\n",
       "      <th>day</th>\n",
       "      <th>item_id</th>\n",
       "      <th>quantity</th>\n",
       "      <th>sales_value</th>\n",
       "      <th>store_id</th>\n",
       "      <th>retail_disc</th>\n",
       "      <th>trans_time</th>\n",
       "      <th>week_no</th>\n",
       "      <th>coupon_disc</th>\n",
       "      <th>coupon_match_disc</th>\n",
       "    </tr>\n",
       "  </thead>\n",
       "  <tbody>\n",
       "    <tr>\n",
       "      <th>0</th>\n",
       "      <td>2375</td>\n",
       "      <td>26984851472</td>\n",
       "      <td>1</td>\n",
       "      <td>1004906</td>\n",
       "      <td>1</td>\n",
       "      <td>1.39</td>\n",
       "      <td>364</td>\n",
       "      <td>-0.6</td>\n",
       "      <td>1631</td>\n",
       "      <td>1</td>\n",
       "      <td>0.0</td>\n",
       "      <td>0.0</td>\n",
       "    </tr>\n",
       "    <tr>\n",
       "      <th>1</th>\n",
       "      <td>2375</td>\n",
       "      <td>26984851472</td>\n",
       "      <td>1</td>\n",
       "      <td>1033142</td>\n",
       "      <td>1</td>\n",
       "      <td>0.82</td>\n",
       "      <td>364</td>\n",
       "      <td>0.0</td>\n",
       "      <td>1631</td>\n",
       "      <td>1</td>\n",
       "      <td>0.0</td>\n",
       "      <td>0.0</td>\n",
       "    </tr>\n",
       "  </tbody>\n",
       "</table>\n",
       "</div>"
      ],
      "text/plain": [
       "   user_id    basket_id  day  item_id  quantity  sales_value  store_id  \\\n",
       "0     2375  26984851472    1  1004906         1         1.39       364   \n",
       "1     2375  26984851472    1  1033142         1         0.82       364   \n",
       "\n",
       "   retail_disc  trans_time  week_no  coupon_disc  coupon_match_disc  \n",
       "0         -0.6        1631        1          0.0                0.0  \n",
       "1          0.0        1631        1          0.0                0.0  "
      ]
     },
     "execution_count": 183,
     "metadata": {},
     "output_type": "execute_result"
    }
   ],
   "source": [
    "data = pd.read_csv('retail_train.csv')\n",
    "\n",
    "data.columns = [col.lower() for col in data.columns]\n",
    "data.rename(columns={'household_key': 'user_id',\n",
    "                    'product_id': 'item_id'},\n",
    "           inplace=True)\n",
    "\n",
    "\n",
    "test_size_weeks = 3\n",
    "\n",
    "data_train = data[data['week_no'] < data['week_no'].max() - test_size_weeks]\n",
    "data_test = data[data['week_no'] >= data['week_no'].max() - test_size_weeks]\n",
    "\n",
    "data_train.head(2)"
   ]
  },
  {
   "cell_type": "code",
   "execution_count": 184,
   "metadata": {},
   "outputs": [
    {
     "data": {
      "text/plain": [
       "663"
      ]
     },
     "execution_count": 184,
     "metadata": {},
     "output_type": "execute_result"
    }
   ],
   "source": [
    "data['day'].nunique()"
   ]
  },
  {
   "cell_type": "markdown",
   "metadata": {
    "id": "wk05OovH49cY"
   },
   "source": [
    "### Подбор матрицы $c_{ui}$\n",
    "Попробуйте различные варианты матрицы весов (3+ вариантов). Обучите алгоритм для различных $C$. В качестве результата приведите таблицу: матрица весов - результат на train и validation.\n",
    "Сделате качественные выводы.\n"
   ]
  },
  {
   "cell_type": "code",
   "execution_count": 185,
   "metadata": {},
   "outputs": [],
   "source": [
    "from ipynb.fs.full.my_metrics import precision_at_k"
   ]
  },
  {
   "cell_type": "code",
   "execution_count": 186,
   "metadata": {},
   "outputs": [],
   "source": [
    "# создадим таблички для результатов по трейн и тест\n",
    "result_train = data_train.groupby('user_id')['item_id'].unique().reset_index()\n",
    "result_train.columns=['user_id', 'actual']\n",
    "\n",
    "result_test = data_test.groupby('user_id')['item_id'].unique().reset_index()\n",
    "result_test.columns=['user_id', 'actual']"
   ]
  },
  {
   "cell_type": "code",
   "execution_count": 187,
   "metadata": {
    "colab": {
     "base_uri": "https://localhost:8080/"
    },
    "executionInfo": {
     "elapsed": 436,
     "status": "ok",
     "timestamp": 1634549218436,
     "user": {
      "displayName": "Николай -",
      "photoUrl": "https://lh3.googleusercontent.com/a-/AOh14GiCS90olAsBznR3WLZOaJ5ukcv2LPYBRWvHEQUZ-A=s64",
      "userId": "17372739142422056321"
     },
     "user_tz": -180
    },
    "id": "EtukvUpC49cX",
    "outputId": "20ccbc7e-2d61-4c32-b804-9c15d6c1bdc7"
   },
   "outputs": [
    {
     "name": "stderr",
     "output_type": "stream",
     "text": [
      "/opt/anaconda3/lib/python3.7/site-packages/pandas/core/indexing.py:1817: SettingWithCopyWarning: \n",
      "A value is trying to be set on a copy of a slice from a DataFrame.\n",
      "Try using .loc[row_indexer,col_indexer] = value instead\n",
      "\n",
      "See the caveats in the documentation: https://pandas.pydata.org/pandas-docs/stable/user_guide/indexing.html#returning-a-view-versus-a-copy\n",
      "  self._setitem_single_column(loc, value, pi)\n"
     ]
    }
   ],
   "source": [
    "popularity = data_train.groupby('item_id')['quantity'].sum().reset_index()\n",
    "popularity.rename(columns={'quantity': 'n_sold'}, inplace=True)\n",
    "\n",
    "top_5000 = popularity.sort_values('n_sold', ascending=False).head(5000).item_id.tolist()\n",
    "\n",
    "# Заведем фиктивный item_id (если юзер покупал товары из топ-5000, то он \"купил\" такой товар)\n",
    "data_train.loc[~data_train['item_id'].isin(top_5000), 'item_id'] = 999999"
   ]
  },
  {
   "cell_type": "code",
   "execution_count": 188,
   "metadata": {},
   "outputs": [],
   "source": [
    "def get_recommendations(user, model, N=5):\n",
    "    res = [id_to_itemid[rec[0]] for rec in \n",
    "                    model.recommend(userid=userid_to_id[user], \n",
    "                                    user_items=sparse_user_item,   # на вход user-item matrix\n",
    "                                    N=N, \n",
    "                                    filter_already_liked_items=False, \n",
    "                                    filter_items=None, \n",
    "                                    recalculate_user=True)]\n",
    "    return res"
   ]
  },
  {
   "cell_type": "code",
   "execution_count": 189,
   "metadata": {},
   "outputs": [],
   "source": [
    "#user_item_matrix = tfidf_weight(user_item_matrix.T).T  # Применяется к item-user матрице ! \n",
    "#user_item_matrix = bm25_weight(user_item_matrix.T).T  # Применяется к item-user матрице ! "
   ]
  },
  {
   "cell_type": "code",
   "execution_count": 190,
   "metadata": {},
   "outputs": [
    {
     "data": {
      "application/vnd.jupyter.widget-view+json": {
       "model_id": "89643e46191143c9b6a9d9fdb1f5899f",
       "version_major": 2,
       "version_minor": 0
      },
      "text/plain": [
       "  0%|          | 0/15 [00:00<?, ?it/s]"
      ]
     },
     "metadata": {},
     "output_type": "display_data"
    },
    {
     "data": {
      "application/vnd.jupyter.widget-view+json": {
       "model_id": "2ab1931ac3b94c6e8eaa0707f0693ece",
       "version_major": 2,
       "version_minor": 0
      },
      "text/plain": [
       "  0%|          | 0/15 [00:00<?, ?it/s]"
      ]
     },
     "metadata": {},
     "output_type": "display_data"
    },
    {
     "data": {
      "application/vnd.jupyter.widget-view+json": {
       "model_id": "82b650d2c3644dcd92cc17fcbdc30129",
       "version_major": 2,
       "version_minor": 0
      },
      "text/plain": [
       "  0%|          | 0/15 [00:00<?, ?it/s]"
      ]
     },
     "metadata": {},
     "output_type": "display_data"
    },
    {
     "data": {
      "application/vnd.jupyter.widget-view+json": {
       "model_id": "08ef9d83aecf4926ad3510f50aee6da0",
       "version_major": 2,
       "version_minor": 0
      },
      "text/plain": [
       "  0%|          | 0/15 [00:00<?, ?it/s]"
      ]
     },
     "metadata": {},
     "output_type": "display_data"
    },
    {
     "data": {
      "application/vnd.jupyter.widget-view+json": {
       "model_id": "0400a71a6d3a41838e8b78ae195b95b8",
       "version_major": 2,
       "version_minor": 0
      },
      "text/plain": [
       "  0%|          | 0/15 [00:00<?, ?it/s]"
      ]
     },
     "metadata": {},
     "output_type": "display_data"
    }
   ],
   "source": [
    "title_list = ['quantity-count', 'quantity-mean', 'sales_value-mean', 'trans_time-mean', 'week_no-max']\n",
    "values_list = ['quantity', 'quantity', 'sales_value', 'trans_time', 'week_no']\n",
    "aggfunc_list = [np.count_nonzero, np.mean, np.sum, np.mean, np.max]\n",
    "\n",
    "for i in range(len(values_list)):\n",
    "    \n",
    "    user_item_matrix = pd.pivot_table(data_train, \n",
    "                                      index='user_id', columns='item_id', \n",
    "                                      values=values_list[i], # Можно пробоват другие варианты\n",
    "                                      aggfunc=aggfunc_list[i], \n",
    "                                      fill_value=0\n",
    "                                     )\n",
    "\n",
    "    user_item_matrix = user_item_matrix.astype(float) # необходимый тип матрицы для implicit\n",
    "\n",
    "    # переведем в формат saprse matrix\n",
    "    sparse_user_item = csr_matrix(user_item_matrix).tocsr()\n",
    "\n",
    "    userids = user_item_matrix.index.values\n",
    "    itemids = user_item_matrix.columns.values\n",
    "\n",
    "    matrix_userids = np.arange(len(userids))\n",
    "    matrix_itemids = np.arange(len(itemids))\n",
    "\n",
    "    id_to_itemid = dict(zip(matrix_itemids, itemids))\n",
    "    id_to_userid = dict(zip(matrix_userids, userids))\n",
    "\n",
    "    itemid_to_id = dict(zip(itemids, matrix_itemids))\n",
    "    userid_to_id = dict(zip(userids, matrix_userids))\n",
    "    \n",
    "    #user_item_matrix = bm25_weight(user_item_matrix.T).T # применим bm25\n",
    "    \n",
    "    model = AlternatingLeastSquares(factors=44, \n",
    "                                    regularization=0.01, #поставила побольше, вместо 0.001, тк большое переобучение\n",
    "                                    iterations=15, \n",
    "                                    calculate_training_loss=True, \n",
    "                                    use_gpu=False)\n",
    "\n",
    "    model.fit(csr_matrix(user_item_matrix).T.tocsr(),  # На вход item-user matrix\n",
    "              show_progress=True)\n",
    "    \n",
    "    result_train['als_' + title_list[i]] = result_train['user_id'].apply(lambda x: get_recommendations(x, model=model, N=5))\n",
    "    result_test['als_' + title_list[i]] = result_test['user_id'].apply(lambda x: get_recommendations(x, model=model, N=5))"
   ]
  },
  {
   "cell_type": "code",
   "execution_count": 191,
   "metadata": {},
   "outputs": [
    {
     "data": {
      "text/html": [
       "<div>\n",
       "<style scoped>\n",
       "    .dataframe tbody tr th:only-of-type {\n",
       "        vertical-align: middle;\n",
       "    }\n",
       "\n",
       "    .dataframe tbody tr th {\n",
       "        vertical-align: top;\n",
       "    }\n",
       "\n",
       "    .dataframe thead th {\n",
       "        text-align: right;\n",
       "    }\n",
       "</style>\n",
       "<table border=\"1\" class=\"dataframe\">\n",
       "  <thead>\n",
       "    <tr style=\"text-align: right;\">\n",
       "      <th></th>\n",
       "      <th>user_id</th>\n",
       "      <th>actual</th>\n",
       "      <th>als_quantity-count</th>\n",
       "      <th>als_quantity-mean</th>\n",
       "      <th>als_sales_value-mean</th>\n",
       "      <th>als_trans_time-mean</th>\n",
       "      <th>als_week_no-max</th>\n",
       "    </tr>\n",
       "  </thead>\n",
       "  <tbody>\n",
       "    <tr>\n",
       "      <th>0</th>\n",
       "      <td>1</td>\n",
       "      <td>[825123, 831447, 840361, 845307, 852014, 85498...</td>\n",
       "      <td>[1005186, 1033142, 5569374, 999999, 1082185]</td>\n",
       "      <td>[986947, 820165, 1082185, 999999, 1127831]</td>\n",
       "      <td>[1100972, 5569374, 901062, 1105488, 878996]</td>\n",
       "      <td>[982393, 999730, 1059347, 1096290, 988416]</td>\n",
       "      <td>[1004390, 891961, 900842, 960732, 826952]</td>\n",
       "    </tr>\n",
       "    <tr>\n",
       "      <th>1</th>\n",
       "      <td>2</td>\n",
       "      <td>[854852, 930118, 1077555, 1098066, 5567388, 55...</td>\n",
       "      <td>[999999, 1133018, 5569230, 1106523, 1082185]</td>\n",
       "      <td>[833715, 1007195, 1003421, 903674, 979746]</td>\n",
       "      <td>[5569230, 999999, 6534178, 916122, 5569845]</td>\n",
       "      <td>[1015785, 6704035, 849870, 8090539, 930666]</td>\n",
       "      <td>[5582712, 830775, 13095243, 7024830, 1006649]</td>\n",
       "    </tr>\n",
       "    <tr>\n",
       "      <th>2</th>\n",
       "      <td>3</td>\n",
       "      <td>[866211, 878996, 882830, 904360, 921345, 93194...</td>\n",
       "      <td>[951590, 5568378, 1092026, 1106523, 1053690]</td>\n",
       "      <td>[938700, 1022003, 1013321, 822407, 929668]</td>\n",
       "      <td>[1022003, 909894, 965766, 908531, 951590]</td>\n",
       "      <td>[1029685, 838563, 8090519, 838602, 1093113]</td>\n",
       "      <td>[1043971, 1110292, 12185599, 1027068, 913278]</td>\n",
       "    </tr>\n",
       "  </tbody>\n",
       "</table>\n",
       "</div>"
      ],
      "text/plain": [
       "   user_id                                             actual  \\\n",
       "0        1  [825123, 831447, 840361, 845307, 852014, 85498...   \n",
       "1        2  [854852, 930118, 1077555, 1098066, 5567388, 55...   \n",
       "2        3  [866211, 878996, 882830, 904360, 921345, 93194...   \n",
       "\n",
       "                             als_quantity-count  \\\n",
       "0  [1005186, 1033142, 5569374, 999999, 1082185]   \n",
       "1  [999999, 1133018, 5569230, 1106523, 1082185]   \n",
       "2  [951590, 5568378, 1092026, 1106523, 1053690]   \n",
       "\n",
       "                            als_quantity-mean  \\\n",
       "0  [986947, 820165, 1082185, 999999, 1127831]   \n",
       "1  [833715, 1007195, 1003421, 903674, 979746]   \n",
       "2  [938700, 1022003, 1013321, 822407, 929668]   \n",
       "\n",
       "                          als_sales_value-mean  \\\n",
       "0  [1100972, 5569374, 901062, 1105488, 878996]   \n",
       "1  [5569230, 999999, 6534178, 916122, 5569845]   \n",
       "2    [1022003, 909894, 965766, 908531, 951590]   \n",
       "\n",
       "                           als_trans_time-mean  \\\n",
       "0   [982393, 999730, 1059347, 1096290, 988416]   \n",
       "1  [1015785, 6704035, 849870, 8090539, 930666]   \n",
       "2  [1029685, 838563, 8090519, 838602, 1093113]   \n",
       "\n",
       "                                 als_week_no-max  \n",
       "0      [1004390, 891961, 900842, 960732, 826952]  \n",
       "1  [5582712, 830775, 13095243, 7024830, 1006649]  \n",
       "2  [1043971, 1110292, 12185599, 1027068, 913278]  "
      ]
     },
     "execution_count": 191,
     "metadata": {},
     "output_type": "execute_result"
    }
   ],
   "source": [
    "#[id_to_itemid[rec[0]] for rec in recs]\n",
    "result_train.head(3)"
   ]
  },
  {
   "cell_type": "code",
   "execution_count": 192,
   "metadata": {},
   "outputs": [
    {
     "data": {
      "text/html": [
       "<div>\n",
       "<style scoped>\n",
       "    .dataframe tbody tr th:only-of-type {\n",
       "        vertical-align: middle;\n",
       "    }\n",
       "\n",
       "    .dataframe tbody tr th {\n",
       "        vertical-align: top;\n",
       "    }\n",
       "\n",
       "    .dataframe thead th {\n",
       "        text-align: right;\n",
       "    }\n",
       "</style>\n",
       "<table border=\"1\" class=\"dataframe\">\n",
       "  <thead>\n",
       "    <tr style=\"text-align: right;\">\n",
       "      <th></th>\n",
       "      <th>user_id</th>\n",
       "      <th>actual</th>\n",
       "      <th>als_quantity-count</th>\n",
       "      <th>als_quantity-mean</th>\n",
       "      <th>als_sales_value-mean</th>\n",
       "      <th>als_trans_time-mean</th>\n",
       "      <th>als_week_no-max</th>\n",
       "    </tr>\n",
       "  </thead>\n",
       "  <tbody>\n",
       "    <tr>\n",
       "      <th>0</th>\n",
       "      <td>1</td>\n",
       "      <td>[821867, 834484, 856942, 865456, 889248, 90795...</td>\n",
       "      <td>[1005186, 1033142, 5569374, 999999, 1082185]</td>\n",
       "      <td>[986947, 820165, 1082185, 999999, 1127831]</td>\n",
       "      <td>[1100972, 5569374, 901062, 1105488, 878996]</td>\n",
       "      <td>[982393, 999730, 1059347, 1096290, 988416]</td>\n",
       "      <td>[1004390, 891961, 900842, 960732, 826952]</td>\n",
       "    </tr>\n",
       "    <tr>\n",
       "      <th>1</th>\n",
       "      <td>3</td>\n",
       "      <td>[835476, 851057, 872021, 878302, 879948, 90963...</td>\n",
       "      <td>[951590, 5568378, 1092026, 1106523, 1053690]</td>\n",
       "      <td>[938700, 1022003, 1013321, 822407, 929668]</td>\n",
       "      <td>[1022003, 909894, 965766, 908531, 951590]</td>\n",
       "      <td>[1029685, 838563, 8090519, 838602, 1093113]</td>\n",
       "      <td>[1043971, 1110292, 12185599, 1027068, 913278]</td>\n",
       "    </tr>\n",
       "    <tr>\n",
       "      <th>2</th>\n",
       "      <td>6</td>\n",
       "      <td>[920308, 926804, 946489, 1006718, 1017061, 107...</td>\n",
       "      <td>[878996, 1024306, 1023720, 1007195, 1051516]</td>\n",
       "      <td>[1082185, 999999, 878996, 860776, 1024306]</td>\n",
       "      <td>[1051516, 1007195, 930118, 871611, 1105488]</td>\n",
       "      <td>[1048727, 1110632, 977481, 1114050, 869344]</td>\n",
       "      <td>[906017, 929704, 1042616, 12648967, 5565352]</td>\n",
       "    </tr>\n",
       "  </tbody>\n",
       "</table>\n",
       "</div>"
      ],
      "text/plain": [
       "   user_id                                             actual  \\\n",
       "0        1  [821867, 834484, 856942, 865456, 889248, 90795...   \n",
       "1        3  [835476, 851057, 872021, 878302, 879948, 90963...   \n",
       "2        6  [920308, 926804, 946489, 1006718, 1017061, 107...   \n",
       "\n",
       "                             als_quantity-count  \\\n",
       "0  [1005186, 1033142, 5569374, 999999, 1082185]   \n",
       "1  [951590, 5568378, 1092026, 1106523, 1053690]   \n",
       "2  [878996, 1024306, 1023720, 1007195, 1051516]   \n",
       "\n",
       "                            als_quantity-mean  \\\n",
       "0  [986947, 820165, 1082185, 999999, 1127831]   \n",
       "1  [938700, 1022003, 1013321, 822407, 929668]   \n",
       "2  [1082185, 999999, 878996, 860776, 1024306]   \n",
       "\n",
       "                          als_sales_value-mean  \\\n",
       "0  [1100972, 5569374, 901062, 1105488, 878996]   \n",
       "1    [1022003, 909894, 965766, 908531, 951590]   \n",
       "2  [1051516, 1007195, 930118, 871611, 1105488]   \n",
       "\n",
       "                           als_trans_time-mean  \\\n",
       "0   [982393, 999730, 1059347, 1096290, 988416]   \n",
       "1  [1029685, 838563, 8090519, 838602, 1093113]   \n",
       "2  [1048727, 1110632, 977481, 1114050, 869344]   \n",
       "\n",
       "                                 als_week_no-max  \n",
       "0      [1004390, 891961, 900842, 960732, 826952]  \n",
       "1  [1043971, 1110292, 12185599, 1027068, 913278]  \n",
       "2   [906017, 929704, 1042616, 12648967, 5565352]  "
      ]
     },
     "execution_count": 192,
     "metadata": {},
     "output_type": "execute_result"
    }
   ],
   "source": [
    "result_test.head(3)"
   ]
  },
  {
   "cell_type": "code",
   "execution_count": 193,
   "metadata": {},
   "outputs": [
    {
     "name": "stdout",
     "output_type": "stream",
     "text": [
      "CPU times: user 2.25 s, sys: 30 ms, total: 2.28 s\n",
      "Wall time: 1.95 s\n"
     ]
    }
   ],
   "source": [
    "%%time\n",
    "\n",
    "metrics_train = {}\n",
    "metrics_test = {}\n",
    "\n",
    "for i in result_train.columns[1:]:\n",
    "    metrics_train[i] = result_train.apply(lambda row: precision_at_k(row[i], row['actual'],5), axis=1).mean()\n",
    "    metrics_test[i] = result_test.apply(lambda row: precision_at_k(row[i], row['actual'],5), axis=1).mean()"
   ]
  },
  {
   "cell_type": "code",
   "execution_count": 194,
   "metadata": {},
   "outputs": [
    {
     "data": {
      "text/plain": [
       "{'actual': 1.0,\n",
       " 'als_quantity-count': 0.6177671068427305,\n",
       " 'als_quantity-mean': 0.6952380952380783,\n",
       " 'als_sales_value-mean': 0.5118847539015596,\n",
       " 'als_trans_time-mean': 0.029371748699479887,\n",
       " 'als_week_no-max': 0.0942777110844331}"
      ]
     },
     "execution_count": 194,
     "metadata": {},
     "output_type": "execute_result"
    }
   ],
   "source": [
    "metrics_train"
   ]
  },
  {
   "cell_type": "code",
   "execution_count": 195,
   "metadata": {},
   "outputs": [],
   "source": [
    "title_list.insert(0, 'actual')"
   ]
  },
  {
   "cell_type": "code",
   "execution_count": 196,
   "metadata": {},
   "outputs": [
    {
     "data": {
      "text/html": [
       "<div>\n",
       "<style scoped>\n",
       "    .dataframe tbody tr th:only-of-type {\n",
       "        vertical-align: middle;\n",
       "    }\n",
       "\n",
       "    .dataframe tbody tr th {\n",
       "        vertical-align: top;\n",
       "    }\n",
       "\n",
       "    .dataframe thead th {\n",
       "        text-align: right;\n",
       "    }\n",
       "</style>\n",
       "<table border=\"1\" class=\"dataframe\">\n",
       "  <thead>\n",
       "    <tr style=\"text-align: right;\">\n",
       "      <th></th>\n",
       "      <th>weight</th>\n",
       "      <th>precision_ak_train</th>\n",
       "      <th>precision_ak_test</th>\n",
       "    </tr>\n",
       "  </thead>\n",
       "  <tbody>\n",
       "    <tr>\n",
       "      <th>1</th>\n",
       "      <td>quantity-mean</td>\n",
       "      <td>0.695238</td>\n",
       "      <td>0.170715</td>\n",
       "    </tr>\n",
       "    <tr>\n",
       "      <th>0</th>\n",
       "      <td>quantity-count</td>\n",
       "      <td>0.617767</td>\n",
       "      <td>0.167679</td>\n",
       "    </tr>\n",
       "    <tr>\n",
       "      <th>2</th>\n",
       "      <td>sales_value-mean</td>\n",
       "      <td>0.511885</td>\n",
       "      <td>0.104505</td>\n",
       "    </tr>\n",
       "    <tr>\n",
       "      <th>4</th>\n",
       "      <td>week_no-max</td>\n",
       "      <td>0.094278</td>\n",
       "      <td>0.015279</td>\n",
       "    </tr>\n",
       "    <tr>\n",
       "      <th>3</th>\n",
       "      <td>trans_time-mean</td>\n",
       "      <td>0.029372</td>\n",
       "      <td>0.005877</td>\n",
       "    </tr>\n",
       "  </tbody>\n",
       "</table>\n",
       "</div>"
      ],
      "text/plain": [
       "             weight  precision_ak_train  precision_ak_test\n",
       "1     quantity-mean            0.695238           0.170715\n",
       "0    quantity-count            0.617767           0.167679\n",
       "2  sales_value-mean            0.511885           0.104505\n",
       "4       week_no-max            0.094278           0.015279\n",
       "3   trans_time-mean            0.029372           0.005877"
      ]
     },
     "execution_count": 196,
     "metadata": {},
     "output_type": "execute_result"
    }
   ],
   "source": [
    "scores = pd.DataFrame(list(zip(title_list, metrics_train.values(), metrics_test.values()))[1:], columns=['weight','precision_ak_train', 'precision_ak_test'])\n",
    "\n",
    "scores.sort_values(['precision_ak_test'], ascending = False)"
   ]
  },
  {
   "cell_type": "markdown",
   "metadata": {},
   "source": [
    "**Самым значимым весом оказалось среднее количество товара, видимо, оно лучше отражает взаимодействие пользователя с товаром. На втором месте количество товаров. Сумма продажи оказалась менее важна, чем количество.**"
   ]
  },
  {
   "cell_type": "markdown",
   "metadata": {
    "id": "PHer9wto49cZ"
   },
   "source": [
    "### Оптимизация гипперпараметров\n",
    "Для лучшей матрицы весов из первого задания подберите оптимальные $\\lambda$ и n_factors. Подбор можно делать вручную (цикл в цикле, аналог sklearn.GridSearch, или случайно - sklearn.RandomSearch). Или Вы можете воспользоваться библиотеками для автоматического подбора гипперпараметров (любые на Ваш вкус). В качестве результата постройте графики:\n",
    "1. Значение параметра - время обучения \n",
    "2. Значение параметра - качество train, качество validation  \n",
    "\n",
    "Сделайте качественные выводы\n",
    "**P.S.** Не пишите отписки в качестве выводов. Мне интресены Ваши рассуждения, трудности, с которыми Вы сталкнулись и что-то, что Вас удивило. Если выводы контринтуитивны - напишите об этом, в этом нет ничего страшного!"
   ]
  },
  {
   "cell_type": "markdown",
   "metadata": {},
   "source": [
    "**возьмем вес - количество товара, по среднему значению**"
   ]
  },
  {
   "cell_type": "code",
   "execution_count": 197,
   "metadata": {},
   "outputs": [],
   "source": [
    "# создадим таблички для результатов по трейн и тест\n",
    "result_train_opt = data_train.groupby('user_id')['item_id'].unique().reset_index()\n",
    "result_train_opt.columns=['user_id', 'actual']\n",
    "\n",
    "result_test_opt = data_test.groupby('user_id')['item_id'].unique().reset_index()\n",
    "result_test_opt.columns=['user_id', 'actual']"
   ]
  },
  {
   "cell_type": "code",
   "execution_count": 198,
   "metadata": {
    "colab": {
     "base_uri": "https://localhost:8080/"
    },
    "executionInfo": {
     "elapsed": 436,
     "status": "ok",
     "timestamp": 1634549218436,
     "user": {
      "displayName": "Николай -",
      "photoUrl": "https://lh3.googleusercontent.com/a-/AOh14GiCS90olAsBznR3WLZOaJ5ukcv2LPYBRWvHEQUZ-A=s64",
      "userId": "17372739142422056321"
     },
     "user_tz": -180
    },
    "id": "EtukvUpC49cX",
    "outputId": "20ccbc7e-2d61-4c32-b804-9c15d6c1bdc7"
   },
   "outputs": [
    {
     "name": "stderr",
     "output_type": "stream",
     "text": [
      "/opt/anaconda3/lib/python3.7/site-packages/pandas/core/indexing.py:1817: SettingWithCopyWarning: \n",
      "A value is trying to be set on a copy of a slice from a DataFrame.\n",
      "Try using .loc[row_indexer,col_indexer] = value instead\n",
      "\n",
      "See the caveats in the documentation: https://pandas.pydata.org/pandas-docs/stable/user_guide/indexing.html#returning-a-view-versus-a-copy\n",
      "  self._setitem_single_column(loc, value, pi)\n"
     ]
    }
   ],
   "source": [
    "popularity = data_train.groupby('item_id')['quantity'].sum().reset_index()\n",
    "popularity.rename(columns={'quantity': 'n_sold'}, inplace=True)\n",
    "\n",
    "top_5000 = popularity.sort_values('n_sold', ascending=False).head(5000).item_id.tolist()\n",
    "\n",
    "# Заведем фиктивный item_id (если юзер покупал товары из топ-5000, то он \"купил\" такой товар)\n",
    "data_train.loc[~data_train['item_id'].isin(top_5000), 'item_id'] = 999999"
   ]
  },
  {
   "cell_type": "code",
   "execution_count": 199,
   "metadata": {},
   "outputs": [],
   "source": [
    "#user_item_matrix = tfidf_weight(user_item_matrix.T).T  # Применяется к item-user матрице ! \n",
    "#user_item_matrix = bm25_weight(user_item_matrix.T).T  # Применяется к item-user матрице ! "
   ]
  },
  {
   "cell_type": "code",
   "execution_count": 200,
   "metadata": {},
   "outputs": [],
   "source": [
    "user_item_matrix = pd.pivot_table(data_train, \n",
    "                                      index='user_id', columns='item_id', \n",
    "                                      values='quantity', \n",
    "                                      aggfunc=np.mean, \n",
    "                                      fill_value=0\n",
    "                                     )\n",
    "\n",
    "user_item_matrix = user_item_matrix.astype(float) # необходимый тип матрицы для implicit\n",
    "\n",
    "# переведем в формат saprse matrix\n",
    "sparse_user_item = csr_matrix(user_item_matrix).tocsr()\n",
    "\n",
    "userids = user_item_matrix.index.values\n",
    "itemids = user_item_matrix.columns.values\n",
    "\n",
    "matrix_userids = np.arange(len(userids))\n",
    "matrix_itemids = np.arange(len(itemids))\n",
    "\n",
    "id_to_itemid = dict(zip(matrix_itemids, itemids))\n",
    "id_to_userid = dict(zip(matrix_userids, userids))\n",
    "\n",
    "itemid_to_id = dict(zip(itemids, matrix_itemids))\n",
    "userid_to_id = dict(zip(userids, matrix_userids))\n",
    "    \n",
    "#user_item_matrix = bm25_weight(user_item_matrix.T).T # применим bm25"
   ]
  },
  {
   "cell_type": "markdown",
   "metadata": {},
   "source": [
    "import time\n",
    "time_start = time.perf_counter()\n",
    "time_list = []\n",
    "for i in range(6):\n",
    "    print(i**i)\n",
    "    time_finish = time.perf_counter()\n",
    "    time_list.append(time_finish-time_start)\n",
    "    print(f\"Вычисление заняло {time_finish-time_start} секунд\")\n",
    "    time_start = time_finish\n",
    "    \n",
    "time_list"
   ]
  },
  {
   "cell_type": "code",
   "execution_count": 201,
   "metadata": {},
   "outputs": [
    {
     "data": {
      "application/vnd.jupyter.widget-view+json": {
       "model_id": "7d235bddf73940f59abca516ebd06676",
       "version_major": 2,
       "version_minor": 0
      },
      "text/plain": [
       "  0%|          | 0/15 [00:00<?, ?it/s]"
      ]
     },
     "metadata": {},
     "output_type": "display_data"
    },
    {
     "data": {
      "application/vnd.jupyter.widget-view+json": {
       "model_id": "155276dcf1ef4ecdae1dd04a37d0f50b",
       "version_major": 2,
       "version_minor": 0
      },
      "text/plain": [
       "  0%|          | 0/15 [00:00<?, ?it/s]"
      ]
     },
     "metadata": {},
     "output_type": "display_data"
    },
    {
     "data": {
      "application/vnd.jupyter.widget-view+json": {
       "model_id": "f02c0074ea1141efa56b8ee3a1a74b30",
       "version_major": 2,
       "version_minor": 0
      },
      "text/plain": [
       "  0%|          | 0/15 [00:00<?, ?it/s]"
      ]
     },
     "metadata": {},
     "output_type": "display_data"
    },
    {
     "data": {
      "application/vnd.jupyter.widget-view+json": {
       "model_id": "e61de9da918e41d4a1f14b03ef467bd1",
       "version_major": 2,
       "version_minor": 0
      },
      "text/plain": [
       "  0%|          | 0/15 [00:00<?, ?it/s]"
      ]
     },
     "metadata": {},
     "output_type": "display_data"
    },
    {
     "data": {
      "application/vnd.jupyter.widget-view+json": {
       "model_id": "12b84e3b073a4782a335a792d3ce8427",
       "version_major": 2,
       "version_minor": 0
      },
      "text/plain": [
       "  0%|          | 0/15 [00:00<?, ?it/s]"
      ]
     },
     "metadata": {},
     "output_type": "display_data"
    },
    {
     "data": {
      "application/vnd.jupyter.widget-view+json": {
       "model_id": "153db1dc716f4f87a11f7f20f302fcb3",
       "version_major": 2,
       "version_minor": 0
      },
      "text/plain": [
       "  0%|          | 0/15 [00:00<?, ?it/s]"
      ]
     },
     "metadata": {},
     "output_type": "display_data"
    },
    {
     "data": {
      "application/vnd.jupyter.widget-view+json": {
       "model_id": "d09b1663ca7a41dd905f3ddc0bbfcd4c",
       "version_major": 2,
       "version_minor": 0
      },
      "text/plain": [
       "  0%|          | 0/15 [00:00<?, ?it/s]"
      ]
     },
     "metadata": {},
     "output_type": "display_data"
    },
    {
     "data": {
      "application/vnd.jupyter.widget-view+json": {
       "model_id": "eeca1c8357f14ad49704900f5c84b8b2",
       "version_major": 2,
       "version_minor": 0
      },
      "text/plain": [
       "  0%|          | 0/15 [00:00<?, ?it/s]"
      ]
     },
     "metadata": {},
     "output_type": "display_data"
    },
    {
     "data": {
      "application/vnd.jupyter.widget-view+json": {
       "model_id": "16185481961142679fe02429175a246b",
       "version_major": 2,
       "version_minor": 0
      },
      "text/plain": [
       "  0%|          | 0/15 [00:00<?, ?it/s]"
      ]
     },
     "metadata": {},
     "output_type": "display_data"
    },
    {
     "data": {
      "application/vnd.jupyter.widget-view+json": {
       "model_id": "485a7ade93e14ff28b4d04949636a89c",
       "version_major": 2,
       "version_minor": 0
      },
      "text/plain": [
       "  0%|          | 0/15 [00:00<?, ?it/s]"
      ]
     },
     "metadata": {},
     "output_type": "display_data"
    },
    {
     "data": {
      "application/vnd.jupyter.widget-view+json": {
       "model_id": "1ada79f6221d45acb6f1164db4ff4174",
       "version_major": 2,
       "version_minor": 0
      },
      "text/plain": [
       "  0%|          | 0/15 [00:00<?, ?it/s]"
      ]
     },
     "metadata": {},
     "output_type": "display_data"
    },
    {
     "data": {
      "application/vnd.jupyter.widget-view+json": {
       "model_id": "f05a536c1bd04b7fa820d8476058f795",
       "version_major": 2,
       "version_minor": 0
      },
      "text/plain": [
       "  0%|          | 0/15 [00:00<?, ?it/s]"
      ]
     },
     "metadata": {},
     "output_type": "display_data"
    },
    {
     "data": {
      "application/vnd.jupyter.widget-view+json": {
       "model_id": "b12aa19aac794639b549f5761e50b7a5",
       "version_major": 2,
       "version_minor": 0
      },
      "text/plain": [
       "  0%|          | 0/15 [00:00<?, ?it/s]"
      ]
     },
     "metadata": {},
     "output_type": "display_data"
    },
    {
     "data": {
      "application/vnd.jupyter.widget-view+json": {
       "model_id": "e52dd749b11e4d47bb7790051ec9a642",
       "version_major": 2,
       "version_minor": 0
      },
      "text/plain": [
       "  0%|          | 0/15 [00:00<?, ?it/s]"
      ]
     },
     "metadata": {},
     "output_type": "display_data"
    },
    {
     "data": {
      "application/vnd.jupyter.widget-view+json": {
       "model_id": "d085f31877c743b8b46ae10e51f057f0",
       "version_major": 2,
       "version_minor": 0
      },
      "text/plain": [
       "  0%|          | 0/15 [00:00<?, ?it/s]"
      ]
     },
     "metadata": {},
     "output_type": "display_data"
    }
   ],
   "source": [
    "import time\n",
    "time_start = time.perf_counter()\n",
    "#time_list = []\n",
    "total_step = []\n",
    "total = []\n",
    "factor_list = [10, 30, 50, 100, 150]\n",
    "lambda_list = [1, 0.01, 0.001]\n",
    "for f_index in range(len(factor_list)):\n",
    "    for l_index in range(len(lambda_list)):\n",
    "    \n",
    "        model = AlternatingLeastSquares(factors=factor_list[f_index], \n",
    "                                        regularization=lambda_list[l_index],\n",
    "                                        iterations=15, \n",
    "                                        calculate_training_loss=True, #num_threads=4, K - кол-во билжайших соседей\n",
    "                                        use_gpu=False)\n",
    "\n",
    "        model.fit(csr_matrix(user_item_matrix).T.tocsr(),  # На вход item-user matrix\n",
    "                    show_progress=True)\n",
    "\n",
    "        result_train_opt['als_' + str(factor_list[f_index]) + \"_\" + str(lambda_list[l_index])] = result_train_opt['user_id'].apply(lambda x: get_recommendations(x, model=model, N=5))\n",
    "        result_test_opt['als_' + str(factor_list[f_index]) + \"_\" + str(lambda_list[l_index])] = result_test_opt['user_id'].apply(lambda x: get_recommendations(x, model=model, N=5))\n",
    "        \n",
    "        time_finish = time.perf_counter()\n",
    "        #time_list.append(time_finish-time_start)\n",
    "        #print(f\"Вычисление заняло {time_finish-time_start} секунд\")\n",
    "        total_step.append([str(factor_list[f_index]) + \"_\" + str(lambda_list[l_index]), time_finish-time_start])\n",
    "        #print(total_step)\n",
    "        time_start = time_finish\n",
    "    total.append(total_step)\n",
    "    #print(total)"
   ]
  },
  {
   "cell_type": "code",
   "execution_count": 202,
   "metadata": {},
   "outputs": [
    {
     "data": {
      "text/plain": [
       "<AxesSubplot:>"
      ]
     },
     "execution_count": 202,
     "metadata": {},
     "output_type": "execute_result"
    },
    {
     "data": {
      "image/png": "[encoded data removed]",
      "text/plain": [
       "<Figure size 2160x720 with 1 Axes>"
      ]
     },
     "metadata": {
      "needs_background": "light"
     },
     "output_type": "display_data"
    }
   ],
   "source": [
    "# график значение параметра - время обучения \n",
    "import seaborn\n",
    "plt.figure(figsize=(30,10)) \n",
    "\n",
    "x_title = [total[0][i][0] for i in range(len(total[0]))]\n",
    "y_time =  [total[0][i][1] for i in range(len(total[0]))]\n",
    "\n",
    "seaborn.barplot(x=x_title, y=y_time)"
   ]
  },
  {
   "cell_type": "markdown",
   "metadata": {},
   "source": [
    "**время обучения больше, если больше фактор и меньше лямбда**"
   ]
  },
  {
   "cell_type": "code",
   "execution_count": 203,
   "metadata": {},
   "outputs": [
    {
     "data": {
      "text/html": [
       "<div>\n",
       "<style scoped>\n",
       "    .dataframe tbody tr th:only-of-type {\n",
       "        vertical-align: middle;\n",
       "    }\n",
       "\n",
       "    .dataframe tbody tr th {\n",
       "        vertical-align: top;\n",
       "    }\n",
       "\n",
       "    .dataframe thead th {\n",
       "        text-align: right;\n",
       "    }\n",
       "</style>\n",
       "<table border=\"1\" class=\"dataframe\">\n",
       "  <thead>\n",
       "    <tr style=\"text-align: right;\">\n",
       "      <th></th>\n",
       "      <th>user_id</th>\n",
       "      <th>actual</th>\n",
       "      <th>als_10_1</th>\n",
       "      <th>als_10_0.01</th>\n",
       "      <th>als_10_0.001</th>\n",
       "      <th>als_30_1</th>\n",
       "      <th>als_30_0.01</th>\n",
       "      <th>als_30_0.001</th>\n",
       "      <th>als_50_1</th>\n",
       "      <th>als_50_0.01</th>\n",
       "      <th>als_50_0.001</th>\n",
       "      <th>als_100_1</th>\n",
       "      <th>als_100_0.01</th>\n",
       "      <th>als_100_0.001</th>\n",
       "      <th>als_150_1</th>\n",
       "      <th>als_150_0.01</th>\n",
       "      <th>als_150_0.001</th>\n",
       "    </tr>\n",
       "  </thead>\n",
       "  <tbody>\n",
       "    <tr>\n",
       "      <th>0</th>\n",
       "      <td>1</td>\n",
       "      <td>[999999, 840361, 845307, 852014, 856942, 91267...</td>\n",
       "      <td>[1082185, 1127831, 1007195, 999999, 961554]</td>\n",
       "      <td>[1082185, 999999, 1127831, 981760, 1007195]</td>\n",
       "      <td>[1082185, 1127831, 999999, 1007195, 860776]</td>\n",
       "      <td>[999999, 1082185, 820165, 1127831, 986947]</td>\n",
       "      <td>[999999, 1082185, 1127831, 981760, 995242]</td>\n",
       "      <td>[1082185, 999999, 1127831, 986947, 820165]</td>\n",
       "      <td>[820165, 986947, 999999, 1082185, 866227]</td>\n",
       "      <td>[986947, 820165, 1082185, 999999, 1005186]</td>\n",
       "      <td>[820165, 866227, 999999, 1082185, 986947]</td>\n",
       "      <td>[820165, 986947, 1082185, 866227, 995242]</td>\n",
       "      <td>[820165, 995242, 986947, 1082185, 907014]</td>\n",
       "      <td>[986947, 820165, 1082185, 995242, 907014]</td>\n",
       "      <td>[986947, 1082185, 999999, 820165, 995242]</td>\n",
       "      <td>[986947, 1082185, 820165, 995242, 986912]</td>\n",
       "      <td>[907014, 1082185, 999999, 820165, 986947]</td>\n",
       "    </tr>\n",
       "    <tr>\n",
       "      <th>1</th>\n",
       "      <td>2</td>\n",
       "      <td>[854852, 930118, 1077555, 1098066, 999999, 556...</td>\n",
       "      <td>[1082185, 999999, 981760, 1127831, 1007195]</td>\n",
       "      <td>[999999, 1082185, 981760, 1007195, 995785]</td>\n",
       "      <td>[999999, 1082185, 1007195, 981760, 1127831]</td>\n",
       "      <td>[911878, 833715, 1007195, 999999, 1003421]</td>\n",
       "      <td>[1007195, 833715, 1003421, 903674, 911878]</td>\n",
       "      <td>[833715, 911878, 1003421, 999999, 1007195]</td>\n",
       "      <td>[833715, 999999, 1003421, 903674, 911878]</td>\n",
       "      <td>[903674, 833715, 979746, 1003421, 1007195]</td>\n",
       "      <td>[833715, 903674, 999999, 1003421, 1007195]</td>\n",
       "      <td>[833715, 903674, 911878, 979746, 1007195]</td>\n",
       "      <td>[833715, 903674, 1003421, 1068719, 911878]</td>\n",
       "      <td>[833715, 853904, 1068719, 911878, 903674]</td>\n",
       "      <td>[833715, 853904, 903674, 911878, 979746]</td>\n",
       "      <td>[833715, 903674, 1007195, 1003421, 1068719]</td>\n",
       "      <td>[833715, 911878, 1068719, 853904, 903674]</td>\n",
       "    </tr>\n",
       "    <tr>\n",
       "      <th>2</th>\n",
       "      <td>3</td>\n",
       "      <td>[866211, 878996, 882830, 904360, 921345, 99999...</td>\n",
       "      <td>[999999, 6534178, 883404, 1082185, 1098066]</td>\n",
       "      <td>[951590, 6534178, 5569230, 910032, 826249]</td>\n",
       "      <td>[910032, 6534178, 826249, 951590, 1098066]</td>\n",
       "      <td>[6534178, 5569230, 910032, 951590, 930917]</td>\n",
       "      <td>[6534178, 862139, 951590, 5569230, 910032]</td>\n",
       "      <td>[929668, 938700, 830750, 844165, 1013321]</td>\n",
       "      <td>[1022003, 938700, 822407, 1013321, 6534178]</td>\n",
       "      <td>[938700, 844165, 910032, 1022003, 1044078]</td>\n",
       "      <td>[938700, 844165, 1106523, 925514, 1013321]</td>\n",
       "      <td>[938700, 1133018, 1106523, 1044078, 1022003]</td>\n",
       "      <td>[938700, 1044078, 1133018, 910032, 1106523]</td>\n",
       "      <td>[910032, 951590, 1133018, 938700, 1106523]</td>\n",
       "      <td>[1133018, 1106523, 951590, 938700, 9526563]</td>\n",
       "      <td>[1106523, 1133018, 1022003, 9337581, 1044078]</td>\n",
       "      <td>[1106523, 1022003, 938700, 1133018, 1092026]</td>\n",
       "    </tr>\n",
       "  </tbody>\n",
       "</table>\n",
       "</div>"
      ],
      "text/plain": [
       "   user_id                                             actual  \\\n",
       "0        1  [999999, 840361, 845307, 852014, 856942, 91267...   \n",
       "1        2  [854852, 930118, 1077555, 1098066, 999999, 556...   \n",
       "2        3  [866211, 878996, 882830, 904360, 921345, 99999...   \n",
       "\n",
       "                                      als_10_1  \\\n",
       "0  [1082185, 1127831, 1007195, 999999, 961554]   \n",
       "1  [1082185, 999999, 981760, 1127831, 1007195]   \n",
       "2  [999999, 6534178, 883404, 1082185, 1098066]   \n",
       "\n",
       "                                   als_10_0.01  \\\n",
       "0  [1082185, 999999, 1127831, 981760, 1007195]   \n",
       "1   [999999, 1082185, 981760, 1007195, 995785]   \n",
       "2   [951590, 6534178, 5569230, 910032, 826249]   \n",
       "\n",
       "                                  als_10_0.001  \\\n",
       "0  [1082185, 1127831, 999999, 1007195, 860776]   \n",
       "1  [999999, 1082185, 1007195, 981760, 1127831]   \n",
       "2   [910032, 6534178, 826249, 951590, 1098066]   \n",
       "\n",
       "                                     als_30_1  \\\n",
       "0  [999999, 1082185, 820165, 1127831, 986947]   \n",
       "1  [911878, 833715, 1007195, 999999, 1003421]   \n",
       "2  [6534178, 5569230, 910032, 951590, 930917]   \n",
       "\n",
       "                                  als_30_0.01  \\\n",
       "0  [999999, 1082185, 1127831, 981760, 995242]   \n",
       "1  [1007195, 833715, 1003421, 903674, 911878]   \n",
       "2  [6534178, 862139, 951590, 5569230, 910032]   \n",
       "\n",
       "                                 als_30_0.001  \\\n",
       "0  [1082185, 999999, 1127831, 986947, 820165]   \n",
       "1  [833715, 911878, 1003421, 999999, 1007195]   \n",
       "2   [929668, 938700, 830750, 844165, 1013321]   \n",
       "\n",
       "                                      als_50_1  \\\n",
       "0    [820165, 986947, 999999, 1082185, 866227]   \n",
       "1    [833715, 999999, 1003421, 903674, 911878]   \n",
       "2  [1022003, 938700, 822407, 1013321, 6534178]   \n",
       "\n",
       "                                  als_50_0.01  \\\n",
       "0  [986947, 820165, 1082185, 999999, 1005186]   \n",
       "1  [903674, 833715, 979746, 1003421, 1007195]   \n",
       "2  [938700, 844165, 910032, 1022003, 1044078]   \n",
       "\n",
       "                                 als_50_0.001  \\\n",
       "0   [820165, 866227, 999999, 1082185, 986947]   \n",
       "1  [833715, 903674, 999999, 1003421, 1007195]   \n",
       "2  [938700, 844165, 1106523, 925514, 1013321]   \n",
       "\n",
       "                                      als_100_1  \\\n",
       "0     [820165, 986947, 1082185, 866227, 995242]   \n",
       "1     [833715, 903674, 911878, 979746, 1007195]   \n",
       "2  [938700, 1133018, 1106523, 1044078, 1022003]   \n",
       "\n",
       "                                  als_100_0.01  \\\n",
       "0    [820165, 995242, 986947, 1082185, 907014]   \n",
       "1   [833715, 903674, 1003421, 1068719, 911878]   \n",
       "2  [938700, 1044078, 1133018, 910032, 1106523]   \n",
       "\n",
       "                                als_100_0.001  \\\n",
       "0   [986947, 820165, 1082185, 995242, 907014]   \n",
       "1   [833715, 853904, 1068719, 911878, 903674]   \n",
       "2  [910032, 951590, 1133018, 938700, 1106523]   \n",
       "\n",
       "                                     als_150_1  \\\n",
       "0    [986947, 1082185, 999999, 820165, 995242]   \n",
       "1     [833715, 853904, 903674, 911878, 979746]   \n",
       "2  [1133018, 1106523, 951590, 938700, 9526563]   \n",
       "\n",
       "                                    als_150_0.01  \\\n",
       "0      [986947, 1082185, 820165, 995242, 986912]   \n",
       "1    [833715, 903674, 1007195, 1003421, 1068719]   \n",
       "2  [1106523, 1133018, 1022003, 9337581, 1044078]   \n",
       "\n",
       "                                  als_150_0.001  \n",
       "0     [907014, 1082185, 999999, 820165, 986947]  \n",
       "1     [833715, 911878, 1068719, 853904, 903674]  \n",
       "2  [1106523, 1022003, 938700, 1133018, 1092026]  "
      ]
     },
     "execution_count": 203,
     "metadata": {},
     "output_type": "execute_result"
    }
   ],
   "source": [
    "#[id_to_itemid[rec[0]] for rec in recs]\n",
    "result_train_opt.head(3)"
   ]
  },
  {
   "cell_type": "code",
   "execution_count": 204,
   "metadata": {},
   "outputs": [
    {
     "data": {
      "text/html": [
       "<div>\n",
       "<style scoped>\n",
       "    .dataframe tbody tr th:only-of-type {\n",
       "        vertical-align: middle;\n",
       "    }\n",
       "\n",
       "    .dataframe tbody tr th {\n",
       "        vertical-align: top;\n",
       "    }\n",
       "\n",
       "    .dataframe thead th {\n",
       "        text-align: right;\n",
       "    }\n",
       "</style>\n",
       "<table border=\"1\" class=\"dataframe\">\n",
       "  <thead>\n",
       "    <tr style=\"text-align: right;\">\n",
       "      <th></th>\n",
       "      <th>user_id</th>\n",
       "      <th>actual</th>\n",
       "      <th>als_10_1</th>\n",
       "      <th>als_10_0.01</th>\n",
       "      <th>als_10_0.001</th>\n",
       "      <th>als_30_1</th>\n",
       "      <th>als_30_0.01</th>\n",
       "      <th>als_30_0.001</th>\n",
       "      <th>als_50_1</th>\n",
       "      <th>als_50_0.01</th>\n",
       "      <th>als_50_0.001</th>\n",
       "      <th>als_100_1</th>\n",
       "      <th>als_100_0.01</th>\n",
       "      <th>als_100_0.001</th>\n",
       "      <th>als_150_1</th>\n",
       "      <th>als_150_0.01</th>\n",
       "      <th>als_150_0.001</th>\n",
       "    </tr>\n",
       "  </thead>\n",
       "  <tbody>\n",
       "    <tr>\n",
       "      <th>0</th>\n",
       "      <td>1</td>\n",
       "      <td>[821867, 834484, 856942, 865456, 889248, 90795...</td>\n",
       "      <td>[1082185, 1127831, 1007195, 999999, 961554]</td>\n",
       "      <td>[1082185, 999999, 1127831, 981760, 1007195]</td>\n",
       "      <td>[1082185, 1127831, 999999, 1007195, 860776]</td>\n",
       "      <td>[999999, 1082185, 820165, 1127831, 986947]</td>\n",
       "      <td>[999999, 1082185, 1127831, 981760, 995242]</td>\n",
       "      <td>[1082185, 999999, 1127831, 986947, 820165]</td>\n",
       "      <td>[820165, 986947, 999999, 1082185, 866227]</td>\n",
       "      <td>[986947, 820165, 1082185, 999999, 1005186]</td>\n",
       "      <td>[820165, 866227, 999999, 1082185, 986947]</td>\n",
       "      <td>[820165, 986947, 1082185, 866227, 995242]</td>\n",
       "      <td>[820165, 995242, 986947, 1082185, 907014]</td>\n",
       "      <td>[986947, 820165, 1082185, 995242, 907014]</td>\n",
       "      <td>[986947, 1082185, 999999, 820165, 995242]</td>\n",
       "      <td>[986947, 1082185, 820165, 995242, 986912]</td>\n",
       "      <td>[907014, 1082185, 999999, 820165, 986947]</td>\n",
       "    </tr>\n",
       "    <tr>\n",
       "      <th>1</th>\n",
       "      <td>3</td>\n",
       "      <td>[835476, 851057, 872021, 878302, 879948, 90963...</td>\n",
       "      <td>[999999, 6534178, 883404, 1082185, 1098066]</td>\n",
       "      <td>[951590, 6534178, 5569230, 910032, 826249]</td>\n",
       "      <td>[910032, 6534178, 826249, 951590, 1098066]</td>\n",
       "      <td>[6534178, 5569230, 910032, 951590, 930917]</td>\n",
       "      <td>[6534178, 862139, 951590, 5569230, 910032]</td>\n",
       "      <td>[929668, 938700, 830750, 844165, 1013321]</td>\n",
       "      <td>[1022003, 938700, 822407, 1013321, 6534178]</td>\n",
       "      <td>[938700, 844165, 910032, 1022003, 1044078]</td>\n",
       "      <td>[938700, 844165, 1106523, 925514, 1013321]</td>\n",
       "      <td>[938700, 1133018, 1106523, 1044078, 1022003]</td>\n",
       "      <td>[938700, 1044078, 1133018, 910032, 1106523]</td>\n",
       "      <td>[910032, 951590, 1133018, 938700, 1106523]</td>\n",
       "      <td>[1133018, 1106523, 951590, 938700, 9526563]</td>\n",
       "      <td>[1106523, 1133018, 1022003, 9337581, 1044078]</td>\n",
       "      <td>[1106523, 1022003, 938700, 1133018, 1092026]</td>\n",
       "    </tr>\n",
       "    <tr>\n",
       "      <th>2</th>\n",
       "      <td>6</td>\n",
       "      <td>[920308, 926804, 946489, 1006718, 1017061, 107...</td>\n",
       "      <td>[999999, 1082185, 6534178, 1127831, 1007195]</td>\n",
       "      <td>[999999, 1082185, 1127831, 6533889, 6534178]</td>\n",
       "      <td>[999999, 1082185, 1127831, 1007195, 820165]</td>\n",
       "      <td>[999999, 1082185, 1007195, 878996, 820165]</td>\n",
       "      <td>[1082185, 999999, 878996, 860776, 1024306]</td>\n",
       "      <td>[1082185, 999999, 1127831, 878996, 860776]</td>\n",
       "      <td>[999999, 1082185, 878996, 1127831, 820165]</td>\n",
       "      <td>[999999, 1082185, 878996, 1127831, 1024306]</td>\n",
       "      <td>[1082185, 878996, 1127831, 999999, 1024306]</td>\n",
       "      <td>[999999, 1082185, 878996, 820165, 1024306]</td>\n",
       "      <td>[999999, 1082185, 1024306, 1127831, 878996]</td>\n",
       "      <td>[999999, 1082185, 878996, 1024306, 1127831]</td>\n",
       "      <td>[878996, 1082185, 999999, 1127831, 981760]</td>\n",
       "      <td>[999999, 1082185, 866211, 878996, 866227]</td>\n",
       "      <td>[1082185, 999999, 878996, 1024306, 5569230]</td>\n",
       "    </tr>\n",
       "  </tbody>\n",
       "</table>\n",
       "</div>"
      ],
      "text/plain": [
       "   user_id                                             actual  \\\n",
       "0        1  [821867, 834484, 856942, 865456, 889248, 90795...   \n",
       "1        3  [835476, 851057, 872021, 878302, 879948, 90963...   \n",
       "2        6  [920308, 926804, 946489, 1006718, 1017061, 107...   \n",
       "\n",
       "                                       als_10_1  \\\n",
       "0   [1082185, 1127831, 1007195, 999999, 961554]   \n",
       "1   [999999, 6534178, 883404, 1082185, 1098066]   \n",
       "2  [999999, 1082185, 6534178, 1127831, 1007195]   \n",
       "\n",
       "                                    als_10_0.01  \\\n",
       "0   [1082185, 999999, 1127831, 981760, 1007195]   \n",
       "1    [951590, 6534178, 5569230, 910032, 826249]   \n",
       "2  [999999, 1082185, 1127831, 6533889, 6534178]   \n",
       "\n",
       "                                  als_10_0.001  \\\n",
       "0  [1082185, 1127831, 999999, 1007195, 860776]   \n",
       "1   [910032, 6534178, 826249, 951590, 1098066]   \n",
       "2  [999999, 1082185, 1127831, 1007195, 820165]   \n",
       "\n",
       "                                     als_30_1  \\\n",
       "0  [999999, 1082185, 820165, 1127831, 986947]   \n",
       "1  [6534178, 5569230, 910032, 951590, 930917]   \n",
       "2  [999999, 1082185, 1007195, 878996, 820165]   \n",
       "\n",
       "                                  als_30_0.01  \\\n",
       "0  [999999, 1082185, 1127831, 981760, 995242]   \n",
       "1  [6534178, 862139, 951590, 5569230, 910032]   \n",
       "2  [1082185, 999999, 878996, 860776, 1024306]   \n",
       "\n",
       "                                 als_30_0.001  \\\n",
       "0  [1082185, 999999, 1127831, 986947, 820165]   \n",
       "1   [929668, 938700, 830750, 844165, 1013321]   \n",
       "2  [1082185, 999999, 1127831, 878996, 860776]   \n",
       "\n",
       "                                      als_50_1  \\\n",
       "0    [820165, 986947, 999999, 1082185, 866227]   \n",
       "1  [1022003, 938700, 822407, 1013321, 6534178]   \n",
       "2   [999999, 1082185, 878996, 1127831, 820165]   \n",
       "\n",
       "                                   als_50_0.01  \\\n",
       "0   [986947, 820165, 1082185, 999999, 1005186]   \n",
       "1   [938700, 844165, 910032, 1022003, 1044078]   \n",
       "2  [999999, 1082185, 878996, 1127831, 1024306]   \n",
       "\n",
       "                                  als_50_0.001  \\\n",
       "0    [820165, 866227, 999999, 1082185, 986947]   \n",
       "1   [938700, 844165, 1106523, 925514, 1013321]   \n",
       "2  [1082185, 878996, 1127831, 999999, 1024306]   \n",
       "\n",
       "                                      als_100_1  \\\n",
       "0     [820165, 986947, 1082185, 866227, 995242]   \n",
       "1  [938700, 1133018, 1106523, 1044078, 1022003]   \n",
       "2    [999999, 1082185, 878996, 820165, 1024306]   \n",
       "\n",
       "                                  als_100_0.01  \\\n",
       "0    [820165, 995242, 986947, 1082185, 907014]   \n",
       "1  [938700, 1044078, 1133018, 910032, 1106523]   \n",
       "2  [999999, 1082185, 1024306, 1127831, 878996]   \n",
       "\n",
       "                                 als_100_0.001  \\\n",
       "0    [986947, 820165, 1082185, 995242, 907014]   \n",
       "1   [910032, 951590, 1133018, 938700, 1106523]   \n",
       "2  [999999, 1082185, 878996, 1024306, 1127831]   \n",
       "\n",
       "                                     als_150_1  \\\n",
       "0    [986947, 1082185, 999999, 820165, 995242]   \n",
       "1  [1133018, 1106523, 951590, 938700, 9526563]   \n",
       "2   [878996, 1082185, 999999, 1127831, 981760]   \n",
       "\n",
       "                                    als_150_0.01  \\\n",
       "0      [986947, 1082185, 820165, 995242, 986912]   \n",
       "1  [1106523, 1133018, 1022003, 9337581, 1044078]   \n",
       "2      [999999, 1082185, 866211, 878996, 866227]   \n",
       "\n",
       "                                  als_150_0.001  \n",
       "0     [907014, 1082185, 999999, 820165, 986947]  \n",
       "1  [1106523, 1022003, 938700, 1133018, 1092026]  \n",
       "2   [1082185, 999999, 878996, 1024306, 5569230]  "
      ]
     },
     "execution_count": 204,
     "metadata": {},
     "output_type": "execute_result"
    }
   ],
   "source": [
    "result_test_opt.head(3)"
   ]
  },
  {
   "cell_type": "code",
   "execution_count": 205,
   "metadata": {},
   "outputs": [
    {
     "name": "stdout",
     "output_type": "stream",
     "text": [
      "CPU times: user 5.02 s, sys: 67.5 ms, total: 5.08 s\n",
      "Wall time: 5.23 s\n"
     ]
    }
   ],
   "source": [
    "%%time\n",
    "\n",
    "metrics_train_opt = {}\n",
    "metrics_test_opt = {}\n",
    "\n",
    "for i in result_train_opt.columns[1:]:\n",
    "    metrics_train_opt[i] = result_train_opt.apply(lambda row: precision_at_k(row[i], row['actual'],5), axis=1).mean()\n",
    "    metrics_test_opt[i] = result_test_opt.apply(lambda row: precision_at_k(row[i], row['actual'],5), axis=1).mean()"
   ]
  },
  {
   "cell_type": "code",
   "execution_count": 206,
   "metadata": {},
   "outputs": [
    {
     "data": {
      "text/plain": [
       "{'actual': 1.0,\n",
       " 'als_10_1': 0.7434173669467693,\n",
       " 'als_10_0.01': 0.7108443377350848,\n",
       " 'als_10_0.001': 0.7496598639455679,\n",
       " 'als_30_1': 0.8095238095237981,\n",
       " 'als_30_0.01': 0.8246498599439654,\n",
       " 'als_30_0.001': 0.8337735094037507,\n",
       " 'als_50_1': 0.8576230492196792,\n",
       " 'als_50_0.01': 0.8737094837935105,\n",
       " 'als_50_0.001': 0.8759503801520532,\n",
       " 'als_100_1': 0.9211684673869528,\n",
       " 'als_100_0.01': 0.9383753501400542,\n",
       " 'als_100_0.001': 0.9400560224089625,\n",
       " 'als_150_1': 0.9515006002400954,\n",
       " 'als_150_0.01': 0.9643857543017196,\n",
       " 'als_150_0.001': 0.965586234493797}"
      ]
     },
     "execution_count": 206,
     "metadata": {},
     "output_type": "execute_result"
    }
   ],
   "source": [
    "metrics_train_opt"
   ]
  },
  {
   "cell_type": "code",
   "execution_count": 207,
   "metadata": {},
   "outputs": [
    {
     "data": {
      "text/html": [
       "<div>\n",
       "<style scoped>\n",
       "    .dataframe tbody tr th:only-of-type {\n",
       "        vertical-align: middle;\n",
       "    }\n",
       "\n",
       "    .dataframe tbody tr th {\n",
       "        vertical-align: top;\n",
       "    }\n",
       "\n",
       "    .dataframe thead th {\n",
       "        text-align: right;\n",
       "    }\n",
       "</style>\n",
       "<table border=\"1\" class=\"dataframe\">\n",
       "  <thead>\n",
       "    <tr style=\"text-align: right;\">\n",
       "      <th></th>\n",
       "      <th>title</th>\n",
       "      <th>precision_ak_train</th>\n",
       "      <th>precision_ak_test</th>\n",
       "    </tr>\n",
       "  </thead>\n",
       "  <tbody>\n",
       "    <tr>\n",
       "      <th>12</th>\n",
       "      <td>als_150_1</td>\n",
       "      <td>0.951501</td>\n",
       "      <td>0.171009</td>\n",
       "    </tr>\n",
       "    <tr>\n",
       "      <th>10</th>\n",
       "      <td>als_100_0.01</td>\n",
       "      <td>0.938375</td>\n",
       "      <td>0.170519</td>\n",
       "    </tr>\n",
       "    <tr>\n",
       "      <th>6</th>\n",
       "      <td>als_50_1</td>\n",
       "      <td>0.857623</td>\n",
       "      <td>0.170323</td>\n",
       "    </tr>\n",
       "    <tr>\n",
       "      <th>8</th>\n",
       "      <td>als_50_0.001</td>\n",
       "      <td>0.875950</td>\n",
       "      <td>0.170029</td>\n",
       "    </tr>\n",
       "    <tr>\n",
       "      <th>9</th>\n",
       "      <td>als_100_1</td>\n",
       "      <td>0.921168</td>\n",
       "      <td>0.169736</td>\n",
       "    </tr>\n",
       "    <tr>\n",
       "      <th>13</th>\n",
       "      <td>als_150_0.01</td>\n",
       "      <td>0.964386</td>\n",
       "      <td>0.168462</td>\n",
       "    </tr>\n",
       "    <tr>\n",
       "      <th>5</th>\n",
       "      <td>als_30_0.001</td>\n",
       "      <td>0.833774</td>\n",
       "      <td>0.167973</td>\n",
       "    </tr>\n",
       "    <tr>\n",
       "      <th>11</th>\n",
       "      <td>als_100_0.001</td>\n",
       "      <td>0.940056</td>\n",
       "      <td>0.167679</td>\n",
       "    </tr>\n",
       "    <tr>\n",
       "      <th>7</th>\n",
       "      <td>als_50_0.01</td>\n",
       "      <td>0.873709</td>\n",
       "      <td>0.166308</td>\n",
       "    </tr>\n",
       "    <tr>\n",
       "      <th>4</th>\n",
       "      <td>als_30_0.01</td>\n",
       "      <td>0.824650</td>\n",
       "      <td>0.163369</td>\n",
       "    </tr>\n",
       "    <tr>\n",
       "      <th>3</th>\n",
       "      <td>als_30_1</td>\n",
       "      <td>0.809524</td>\n",
       "      <td>0.163075</td>\n",
       "    </tr>\n",
       "    <tr>\n",
       "      <th>14</th>\n",
       "      <td>als_150_0.001</td>\n",
       "      <td>0.965586</td>\n",
       "      <td>0.162194</td>\n",
       "    </tr>\n",
       "    <tr>\n",
       "      <th>2</th>\n",
       "      <td>als_10_0.001</td>\n",
       "      <td>0.749660</td>\n",
       "      <td>0.156415</td>\n",
       "    </tr>\n",
       "    <tr>\n",
       "      <th>0</th>\n",
       "      <td>als_10_1</td>\n",
       "      <td>0.743417</td>\n",
       "      <td>0.151420</td>\n",
       "    </tr>\n",
       "    <tr>\n",
       "      <th>1</th>\n",
       "      <td>als_10_0.01</td>\n",
       "      <td>0.710844</td>\n",
       "      <td>0.151420</td>\n",
       "    </tr>\n",
       "  </tbody>\n",
       "</table>\n",
       "</div>"
      ],
      "text/plain": [
       "            title  precision_ak_train  precision_ak_test\n",
       "12      als_150_1            0.951501           0.171009\n",
       "10   als_100_0.01            0.938375           0.170519\n",
       "6        als_50_1            0.857623           0.170323\n",
       "8    als_50_0.001            0.875950           0.170029\n",
       "9       als_100_1            0.921168           0.169736\n",
       "13   als_150_0.01            0.964386           0.168462\n",
       "5    als_30_0.001            0.833774           0.167973\n",
       "11  als_100_0.001            0.940056           0.167679\n",
       "7     als_50_0.01            0.873709           0.166308\n",
       "4     als_30_0.01            0.824650           0.163369\n",
       "3        als_30_1            0.809524           0.163075\n",
       "14  als_150_0.001            0.965586           0.162194\n",
       "2    als_10_0.001            0.749660           0.156415\n",
       "0        als_10_1            0.743417           0.151420\n",
       "1     als_10_0.01            0.710844           0.151420"
      ]
     },
     "execution_count": 207,
     "metadata": {},
     "output_type": "execute_result"
    }
   ],
   "source": [
    "scores = pd.DataFrame(list(zip(metrics_train_opt.keys(), metrics_train_opt.values(), metrics_test_opt.values()))[1:], columns=['title','precision_ak_train', 'precision_ak_test'])\n",
    "\n",
    "scores.sort_values(['precision_ak_test'], ascending = False)"
   ]
  },
  {
   "cell_type": "code",
   "execution_count": 208,
   "metadata": {},
   "outputs": [
    {
     "data": {
      "text/plain": [
       "[<matplotlib.lines.Line2D at 0x7fb114b31dd0>,\n",
       " <matplotlib.lines.Line2D at 0x7fb114b317d0>]"
      ]
     },
     "execution_count": 208,
     "metadata": {},
     "output_type": "execute_result"
    },
    {
     "data": {
      "image/png": "[encoded data removed]",
      "text/plain": [
       "<Figure size 2160x2160 with 1 Axes>"
      ]
     },
     "metadata": {
      "needs_background": "light"
     },
     "output_type": "display_data"
    }
   ],
   "source": [
    "import matplotlib.pyplot as plt\n",
    "%matplotlib inline\n",
    "plt.figure(figsize=(30,30)) \n",
    "x = metrics_train_opt.keys()\n",
    "y1 = metrics_train_opt.values()\n",
    "y2 = metrics_test_opt.values()\n",
    "plt.plot(x, y1, y2)"
   ]
  },
  {
   "cell_type": "markdown",
   "metadata": {},
   "source": [
    "**наилучший precision на тесте у модели с фактор = 100 и 150 (прямая зависимость кол-ва факторов и precision) и лямбда = 1, лямбда самая большая из списка, так как модель сильно переобучается. Хотелось бы, чтобы в разборе домашней работы Вы рассказали, как с этим справиться.\n",
    "Так же неплохой результат у фактор = 100 и 50 с лямбдой 0.01 и 0.001, получается, что фактор все-таки лучше выбирать 50 или выше, а лямбду тестировать**"
   ]
  },
  {
   "cell_type": "markdown",
   "metadata": {},
   "source": [
    "**Важно искать оптимальные параметры\n",
    "regularization, iterations, factors, вес (элемент в матрице user-item)**"
   ]
  },
  {
   "cell_type": "code",
   "execution_count": null,
   "metadata": {},
   "outputs": [],
   "source": []
  }
 ],
 "metadata": {
  "colab": {
   "name": "hw3.ipynb",
   "provenance": []
  },
  "kernelspec": {
   "display_name": "Python 3",
   "language": "python",
   "name": "python3"
  },
  "language_info": {
   "codemirror_mode": {
    "name": "ipython",
    "version": 3
   },
   "file_extension": ".py",
   "mimetype": "text/x-python",
   "name": "python",
   "nbconvert_exporter": "python",
   "pygments_lexer": "ipython3",
   "version": "3.7.11"
  }
 },
 "nbformat": 4,
 "nbformat_minor": 1
}
