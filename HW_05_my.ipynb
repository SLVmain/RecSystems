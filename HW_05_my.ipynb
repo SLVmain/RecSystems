{
 "cells": [
  {
   "cell_type": "markdown",
   "metadata": {},
   "source": [
    "## Теоретическая часть"
   ]
  },
  {
   "cell_type": "markdown",
   "metadata": {},
   "source": [
    "\n",
    "1. Ответьте на вопросы:  \n",
    "В чем принципиальное отличие гибридных рекомендательных систем от коллаборативной филтьтрации?  \n",
    "Приведите 2-3 примера задач, в которых необходимо использовать гибридные системы\n",
    "\n",
    "только гибридные системы учитывают признаки юзеров и товаров\n",
    "\n",
    "Примеры: задачи \"холодного старта\" при появлении нового юзера, который не взаимодействовал ни с чем\n",
    " тж проблема \"холодного старта\" при запуске нового товара или направления"
   ]
  },
  {
   "cell_type": "markdown",
   "metadata": {},
   "source": [
    "2.  Прочитайте статью про поиск на hh.ru https://habr.com/ru/company/hh/blog/347276/\n",
    "Нам интересна именно рекомендательная система, раздел \"Производительность системы\" можно пропустить\n",
    "Какие основные отличия предложенной системы от тех подходов, которые мы разбирали на семинарах? Какие проблемы могут возникнуть при выводе такой модели в продакшен?\n",
    "\n",
    "\n",
    "последовательно используются несколько этапов фильтрации\n",
    "на последнем этапе XGBoost ранжирует вакансии\n"
   ]
  },
  {
   "cell_type": "markdown",
   "metadata": {},
   "source": [
    "3. На вебинаре мы рассматривали модель LightFM (https://making.lyst.com/lightfm/docs/lightfm.html). В работе Data Scientist'а важную часть занимает research - исследование существующих архитектур и разбор научных статей, в которых они описываются. Вам предлагается изчуть оригинальную статью про LightFM https://arxiv.org/pdf/1507.08439.pdf и ответить на следующие вопросы:  \n",
    "1) Какой датасет используют авторы?  \n",
    "2) Что используют в качестве признаков?  \n",
    "3) С какими моделями сравнивают LightFM? Опишите их основные идеи кратко  \n",
    "\n",
    "\n",
    "\n",
    "датасет - MovieLens 10M + Tag Genome (признаки: Юзер x Фильм + упоминания о фильмах)\n",
    "датасет - CrossValidated (признаки: Юзер х Вопрос) - цель рекоммендации подобрать те вопросы на которые у пользователи смогут ответить с большей вероятностью.\n",
    "\n",
    "Признаки:\n",
    "Для MovieLens - жанры, тэги, рейтинг тега, оценки пользователей\n",
    "Для CrossValidated - вопросы пользователей и ответы на них\n",
    "\n",
    "MF - матричная модель User х Item с функцией сигмойды\n",
    "LSI-LR - включает в себя логистическую регрессию. Основывется на факторизации матрицы содержания.\n",
    "LSI-UP: гибридная модель (представляющая профили пользователей (UP) в виде линейных комбинаций векторов содержимого элементов)"
   ]
  },
  {
   "cell_type": "markdown",
   "metadata": {},
   "source": [
    "## Практическая часть\n"
   ]
  },
  {
   "cell_type": "code",
   "execution_count": 572,
   "metadata": {},
   "outputs": [
    {
     "name": "stdout",
     "output_type": "stream",
     "text": [
      "Requirement already satisfied: lightfm in /opt/anaconda3/lib/python3.7/site-packages (1.16)\n",
      "Requirement already satisfied: scikit-learn in /opt/anaconda3/lib/python3.7/site-packages (from lightfm) (0.24.2)\n",
      "Requirement already satisfied: scipy>=0.17.0 in /opt/anaconda3/lib/python3.7/site-packages (from lightfm) (1.4.1)\n",
      "Requirement already satisfied: requests in /opt/anaconda3/lib/python3.7/site-packages (from lightfm) (2.26.0)\n",
      "Requirement already satisfied: numpy in /opt/anaconda3/lib/python3.7/site-packages (from lightfm) (1.20.3)\n",
      "Requirement already satisfied: certifi>=2017.4.17 in /opt/anaconda3/lib/python3.7/site-packages (from requests->lightfm) (2021.5.30)\n",
      "Requirement already satisfied: urllib3<1.27,>=1.21.1 in /opt/anaconda3/lib/python3.7/site-packages (from requests->lightfm) (1.26.6)\n",
      "Requirement already satisfied: charset-normalizer~=2.0.0 in /opt/anaconda3/lib/python3.7/site-packages (from requests->lightfm) (2.0.4)\n",
      "Requirement already satisfied: idna<4,>=2.5 in /opt/anaconda3/lib/python3.7/site-packages (from requests->lightfm) (3.2)\n",
      "Requirement already satisfied: joblib>=0.11 in /opt/anaconda3/lib/python3.7/site-packages (from scikit-learn->lightfm) (1.0.1)\n",
      "Requirement already satisfied: threadpoolctl>=2.0.0 in /opt/anaconda3/lib/python3.7/site-packages (from scikit-learn->lightfm) (2.2.0)\n",
      "Note: you may need to restart the kernel to use updated packages.\n"
     ]
    }
   ],
   "source": [
    "pip install lightfm"
   ]
  },
  {
   "cell_type": "code",
   "execution_count": 573,
   "metadata": {},
   "outputs": [],
   "source": [
    "import lightfm"
   ]
  },
  {
   "cell_type": "code",
   "execution_count": 712,
   "metadata": {},
   "outputs": [],
   "source": [
    "import pandas as pd\n",
    "import numpy as np\n",
    "import matplotlib.pyplot as plt\n",
    "%matplotlib inline\n",
    "\n",
    "import matplotlib as plt\n",
    "import matplotlib.image as img\n",
    "import seaborn as sns\n",
    "import matplotlib.pyplot as plt\n",
    "\n",
    "# Для работы с матрицами\n",
    "from scipy.sparse import csr_matrix, coo_matrix\n",
    "\n",
    "# Матричная факторизация\n",
    "from implicit.als import AlternatingLeastSquares\n",
    "from implicit.nearest_neighbours import bm25_weight, tfidf_weight\n",
    "\n",
    "from lightfm import LightFM\n",
    "from lightfm.evaluation import precision_at_k, recall_at_k\n",
    "\n",
    "# Функции из 1-ого вебинара\n",
    "import os, sys\n",
    "\n",
    "module_path = os.path.abspath(os.path.join(os.pardir))\n",
    "if module_path not in sys.path:\n",
    "    sys.path.append(module_path)\n",
    "    \n",
    "\n",
    "from src.utils import prefilter_items"
   ]
  },
  {
   "cell_type": "code",
   "execution_count": 713,
   "metadata": {},
   "outputs": [],
   "source": [
    "from src.metrics import precision_at_k as precision_at_k_,  recall_at_k as recall_at_k_"
   ]
  },
  {
   "cell_type": "code",
   "execution_count": 714,
   "metadata": {},
   "outputs": [],
   "source": [
    "import lightfm.evaluation\n",
    "pr = lightfm.evaluation.precision_at_k"
   ]
  },
  {
   "cell_type": "code",
   "execution_count": null,
   "metadata": {},
   "outputs": [],
   "source": []
  },
  {
   "cell_type": "markdown",
   "metadata": {},
   "source": [
    "### 1. Модуль SRC"
   ]
  },
  {
   "cell_type": "markdown",
   "metadata": {},
   "source": [
    "На вебинаре было рассказано про модуль src. Он приложен в материалах. Скачайте его, изучите структуру, импортируйте функции"
   ]
  },
  {
   "cell_type": "markdown",
   "metadata": {},
   "source": [
    "### 2. Работа с признаками"
   ]
  },
  {
   "cell_type": "markdown",
   "metadata": {},
   "source": [
    "У нас есть внешние данные. Что с ними не так? Чего не хватает?  \n",
    "\n",
    "Проведите исследование внешних данных и составьте какие-нибудь содержательные выводы.  \n",
    "Формально Вам нужно построить 3+ графиков (scatter plot, hist или что-то иное) и описать, что мы видим (например, товары такой-то категории болле часто покупаются в следующие дни недели или пользователи с большим достатком предпочитают такие-то товары).  \n",
    "Исследуйте те закономерности, которые Вам интересно, чем менее тривиальный вывод получается, тем лучше! "
   ]
  },
  {
   "cell_type": "code",
   "execution_count": 715,
   "metadata": {},
   "outputs": [
    {
     "data": {
      "text/html": [
       "<div>\n",
       "<style scoped>\n",
       "    .dataframe tbody tr th:only-of-type {\n",
       "        vertical-align: middle;\n",
       "    }\n",
       "\n",
       "    .dataframe tbody tr th {\n",
       "        vertical-align: top;\n",
       "    }\n",
       "\n",
       "    .dataframe thead th {\n",
       "        text-align: right;\n",
       "    }\n",
       "</style>\n",
       "<table border=\"1\" class=\"dataframe\">\n",
       "  <thead>\n",
       "    <tr style=\"text-align: right;\">\n",
       "      <th></th>\n",
       "      <th>user_id</th>\n",
       "      <th>basket_id</th>\n",
       "      <th>day</th>\n",
       "      <th>item_id</th>\n",
       "      <th>quantity</th>\n",
       "      <th>sales_value</th>\n",
       "      <th>store_id</th>\n",
       "      <th>retail_disc</th>\n",
       "      <th>trans_time</th>\n",
       "      <th>week_no</th>\n",
       "      <th>coupon_disc</th>\n",
       "      <th>coupon_match_disc</th>\n",
       "    </tr>\n",
       "  </thead>\n",
       "  <tbody>\n",
       "    <tr>\n",
       "      <th>0</th>\n",
       "      <td>2375</td>\n",
       "      <td>26984851472</td>\n",
       "      <td>1</td>\n",
       "      <td>1004906</td>\n",
       "      <td>1</td>\n",
       "      <td>1.39</td>\n",
       "      <td>364</td>\n",
       "      <td>-0.6</td>\n",
       "      <td>1631</td>\n",
       "      <td>1</td>\n",
       "      <td>0.0</td>\n",
       "      <td>0.0</td>\n",
       "    </tr>\n",
       "    <tr>\n",
       "      <th>1</th>\n",
       "      <td>2375</td>\n",
       "      <td>26984851472</td>\n",
       "      <td>1</td>\n",
       "      <td>1033142</td>\n",
       "      <td>1</td>\n",
       "      <td>0.82</td>\n",
       "      <td>364</td>\n",
       "      <td>0.0</td>\n",
       "      <td>1631</td>\n",
       "      <td>1</td>\n",
       "      <td>0.0</td>\n",
       "      <td>0.0</td>\n",
       "    </tr>\n",
       "  </tbody>\n",
       "</table>\n",
       "</div>"
      ],
      "text/plain": [
       "   user_id    basket_id  day  item_id  quantity  sales_value  store_id  \\\n",
       "0     2375  26984851472    1  1004906         1         1.39       364   \n",
       "1     2375  26984851472    1  1033142         1         0.82       364   \n",
       "\n",
       "   retail_disc  trans_time  week_no  coupon_disc  coupon_match_disc  \n",
       "0         -0.6        1631        1          0.0                0.0  \n",
       "1          0.0        1631        1          0.0                0.0  "
      ]
     },
     "execution_count": 715,
     "metadata": {},
     "output_type": "execute_result"
    }
   ],
   "source": [
    "data = pd.read_csv('retail_train.csv')\n",
    "item_features = pd.read_csv('product.csv')\n",
    "user_features = pd.read_csv('hh_demographic.csv')\n",
    "\n",
    "# column processing\n",
    "item_features.columns = [col.lower() for col in item_features.columns]\n",
    "user_features.columns = [col.lower() for col in user_features.columns]\n",
    "\n",
    "item_features.rename(columns={'product_id': 'item_id'}, inplace=True)\n",
    "user_features.rename(columns={'household_key': 'user_id'}, inplace=True)\n",
    "\n",
    "# train test split\n",
    "test_size_weeks = 3\n",
    "\n",
    "data_train = data[data['week_no'] < data['week_no'].max() - test_size_weeks]\n",
    "data_test = data[data['week_no'] >= data['week_no'].max() - test_size_weeks]\n",
    "\n",
    "data_train.head(2)"
   ]
  },
  {
   "cell_type": "code",
   "execution_count": 578,
   "metadata": {},
   "outputs": [
    {
     "data": {
      "text/html": [
       "<div>\n",
       "<style scoped>\n",
       "    .dataframe tbody tr th:only-of-type {\n",
       "        vertical-align: middle;\n",
       "    }\n",
       "\n",
       "    .dataframe tbody tr th {\n",
       "        vertical-align: top;\n",
       "    }\n",
       "\n",
       "    .dataframe thead th {\n",
       "        text-align: right;\n",
       "    }\n",
       "</style>\n",
       "<table border=\"1\" class=\"dataframe\">\n",
       "  <thead>\n",
       "    <tr style=\"text-align: right;\">\n",
       "      <th></th>\n",
       "      <th>item_id</th>\n",
       "      <th>manufacturer</th>\n",
       "      <th>department</th>\n",
       "      <th>brand</th>\n",
       "      <th>commodity_desc</th>\n",
       "      <th>sub_commodity_desc</th>\n",
       "      <th>curr_size_of_product</th>\n",
       "    </tr>\n",
       "  </thead>\n",
       "  <tbody>\n",
       "    <tr>\n",
       "      <th>0</th>\n",
       "      <td>25671</td>\n",
       "      <td>2</td>\n",
       "      <td>GROCERY</td>\n",
       "      <td>National</td>\n",
       "      <td>FRZN ICE</td>\n",
       "      <td>ICE - CRUSHED/CUBED</td>\n",
       "      <td>22 LB</td>\n",
       "    </tr>\n",
       "    <tr>\n",
       "      <th>1</th>\n",
       "      <td>26081</td>\n",
       "      <td>2</td>\n",
       "      <td>MISC. TRANS.</td>\n",
       "      <td>National</td>\n",
       "      <td>NO COMMODITY DESCRIPTION</td>\n",
       "      <td>NO SUBCOMMODITY DESCRIPTION</td>\n",
       "      <td></td>\n",
       "    </tr>\n",
       "    <tr>\n",
       "      <th>2</th>\n",
       "      <td>26093</td>\n",
       "      <td>69</td>\n",
       "      <td>PASTRY</td>\n",
       "      <td>Private</td>\n",
       "      <td>BREAD</td>\n",
       "      <td>BREAD:ITALIAN/FRENCH</td>\n",
       "      <td></td>\n",
       "    </tr>\n",
       "    <tr>\n",
       "      <th>3</th>\n",
       "      <td>26190</td>\n",
       "      <td>69</td>\n",
       "      <td>GROCERY</td>\n",
       "      <td>Private</td>\n",
       "      <td>FRUIT - SHELF STABLE</td>\n",
       "      <td>APPLE SAUCE</td>\n",
       "      <td>50 OZ</td>\n",
       "    </tr>\n",
       "    <tr>\n",
       "      <th>4</th>\n",
       "      <td>26355</td>\n",
       "      <td>69</td>\n",
       "      <td>GROCERY</td>\n",
       "      <td>Private</td>\n",
       "      <td>COOKIES/CONES</td>\n",
       "      <td>SPECIALTY COOKIES</td>\n",
       "      <td>14 OZ</td>\n",
       "    </tr>\n",
       "  </tbody>\n",
       "</table>\n",
       "</div>"
      ],
      "text/plain": [
       "   item_id  manufacturer    department     brand            commodity_desc  \\\n",
       "0    25671             2       GROCERY  National                  FRZN ICE   \n",
       "1    26081             2  MISC. TRANS.  National  NO COMMODITY DESCRIPTION   \n",
       "2    26093            69        PASTRY   Private                     BREAD   \n",
       "3    26190            69       GROCERY   Private      FRUIT - SHELF STABLE   \n",
       "4    26355            69       GROCERY   Private             COOKIES/CONES   \n",
       "\n",
       "            sub_commodity_desc curr_size_of_product  \n",
       "0          ICE - CRUSHED/CUBED                22 LB  \n",
       "1  NO SUBCOMMODITY DESCRIPTION                       \n",
       "2         BREAD:ITALIAN/FRENCH                       \n",
       "3                  APPLE SAUCE                50 OZ  \n",
       "4            SPECIALTY COOKIES                14 OZ  "
      ]
     },
     "execution_count": 578,
     "metadata": {},
     "output_type": "execute_result"
    }
   ],
   "source": [
    "item_features.head()"
   ]
  },
  {
   "cell_type": "code",
   "execution_count": 579,
   "metadata": {},
   "outputs": [
    {
     "data": {
      "text/plain": [
       "array(['GROCERY', 'MISC. TRANS.', 'PASTRY', 'DRUG GM', 'MEAT-PCKGD',\n",
       "       'SEAFOOD-PCKGD', 'PRODUCE', 'NUTRITION', 'DELI', 'COSMETICS',\n",
       "       'MEAT', 'FLORAL', 'TRAVEL & LEISUR', 'SEAFOOD', 'MISC SALES TRAN',\n",
       "       'SALAD BAR', 'KIOSK-GAS', 'ELECT &PLUMBING', 'GRO BAKERY',\n",
       "       'GM MERCH EXP', 'FROZEN GROCERY', 'COUP/STR & MFG', 'SPIRITS',\n",
       "       'GARDEN CENTER', 'TOYS', 'CHARITABLE CONT', 'RESTAURANT', 'RX',\n",
       "       'PROD-WHS SALES', 'MEAT-WHSE', 'DAIRY DELI', 'CHEF SHOPPE', 'HBC',\n",
       "       'DELI/SNACK BAR', 'PORK', 'AUTOMOTIVE', 'VIDEO RENTAL', ' ',\n",
       "       'CNTRL/STORE SUP', 'HOUSEWARES', 'POSTAL CENTER', 'PHOTO', 'VIDEO',\n",
       "       'PHARMACY SUPPLY'], dtype=object)"
      ]
     },
     "execution_count": 579,
     "metadata": {},
     "output_type": "execute_result"
    }
   ],
   "source": [
    "item_features['department'].unique()"
   ]
  },
  {
   "cell_type": "code",
   "execution_count": 580,
   "metadata": {},
   "outputs": [
    {
     "data": {
      "text/plain": [
       "308"
      ]
     },
     "execution_count": 580,
     "metadata": {},
     "output_type": "execute_result"
    }
   ],
   "source": [
    "item_features['commodity_desc'].nunique()"
   ]
  },
  {
   "cell_type": "code",
   "execution_count": 581,
   "metadata": {},
   "outputs": [
    {
     "data": {
      "text/plain": [
       "44"
      ]
     },
     "execution_count": 581,
     "metadata": {},
     "output_type": "execute_result"
    }
   ],
   "source": [
    "item_features['department'].nunique()"
   ]
  },
  {
   "cell_type": "code",
   "execution_count": 582,
   "metadata": {},
   "outputs": [
    {
     "data": {
      "text/html": [
       "<div>\n",
       "<style scoped>\n",
       "    .dataframe tbody tr th:only-of-type {\n",
       "        vertical-align: middle;\n",
       "    }\n",
       "\n",
       "    .dataframe tbody tr th {\n",
       "        vertical-align: top;\n",
       "    }\n",
       "\n",
       "    .dataframe thead th {\n",
       "        text-align: right;\n",
       "    }\n",
       "</style>\n",
       "<table border=\"1\" class=\"dataframe\">\n",
       "  <thead>\n",
       "    <tr style=\"text-align: right;\">\n",
       "      <th></th>\n",
       "      <th>age_desc</th>\n",
       "      <th>marital_status_code</th>\n",
       "      <th>income_desc</th>\n",
       "      <th>homeowner_desc</th>\n",
       "      <th>hh_comp_desc</th>\n",
       "      <th>household_size_desc</th>\n",
       "      <th>kid_category_desc</th>\n",
       "      <th>user_id</th>\n",
       "    </tr>\n",
       "  </thead>\n",
       "  <tbody>\n",
       "    <tr>\n",
       "      <th>0</th>\n",
       "      <td>65+</td>\n",
       "      <td>A</td>\n",
       "      <td>35-49K</td>\n",
       "      <td>Homeowner</td>\n",
       "      <td>2 Adults No Kids</td>\n",
       "      <td>2</td>\n",
       "      <td>None/Unknown</td>\n",
       "      <td>1</td>\n",
       "    </tr>\n",
       "    <tr>\n",
       "      <th>1</th>\n",
       "      <td>45-54</td>\n",
       "      <td>A</td>\n",
       "      <td>50-74K</td>\n",
       "      <td>Homeowner</td>\n",
       "      <td>2 Adults No Kids</td>\n",
       "      <td>2</td>\n",
       "      <td>None/Unknown</td>\n",
       "      <td>7</td>\n",
       "    </tr>\n",
       "  </tbody>\n",
       "</table>\n",
       "</div>"
      ],
      "text/plain": [
       "  age_desc marital_status_code income_desc homeowner_desc      hh_comp_desc  \\\n",
       "0      65+                   A      35-49K      Homeowner  2 Adults No Kids   \n",
       "1    45-54                   A      50-74K      Homeowner  2 Adults No Kids   \n",
       "\n",
       "  household_size_desc kid_category_desc  user_id  \n",
       "0                   2      None/Unknown        1  \n",
       "1                   2      None/Unknown        7  "
      ]
     },
     "execution_count": 582,
     "metadata": {},
     "output_type": "execute_result"
    }
   ],
   "source": [
    "user_features.head(2)"
   ]
  },
  {
   "cell_type": "code",
   "execution_count": 583,
   "metadata": {},
   "outputs": [
    {
     "name": "stdout",
     "output_type": "stream",
     "text": [
      "<class 'pandas.core.frame.DataFrame'>\n",
      "RangeIndex: 801 entries, 0 to 800\n",
      "Data columns (total 8 columns):\n",
      " #   Column               Non-Null Count  Dtype \n",
      "---  ------               --------------  ----- \n",
      " 0   age_desc             801 non-null    object\n",
      " 1   marital_status_code  801 non-null    object\n",
      " 2   income_desc          801 non-null    object\n",
      " 3   homeowner_desc       801 non-null    object\n",
      " 4   hh_comp_desc         801 non-null    object\n",
      " 5   household_size_desc  801 non-null    object\n",
      " 6   kid_category_desc    801 non-null    object\n",
      " 7   user_id              801 non-null    int64 \n",
      "dtypes: int64(1), object(7)\n",
      "memory usage: 50.2+ KB\n"
     ]
    }
   ],
   "source": [
    "user_features.info()"
   ]
  },
  {
   "cell_type": "code",
   "execution_count": 584,
   "metadata": {},
   "outputs": [
    {
     "data": {
      "text/plain": [
       "array(['65+', '45-54', '25-34', '35-44', '19-24', '55-64'], dtype=object)"
      ]
     },
     "execution_count": 584,
     "metadata": {},
     "output_type": "execute_result"
    }
   ],
   "source": [
    "user_features['age_desc'].unique()"
   ]
  },
  {
   "cell_type": "code",
   "execution_count": 585,
   "metadata": {},
   "outputs": [
    {
     "data": {
      "text/plain": [
       "array(['A', 'U', 'B'], dtype=object)"
      ]
     },
     "execution_count": 585,
     "metadata": {},
     "output_type": "execute_result"
    }
   ],
   "source": [
    "user_features['marital_status_code'].unique()"
   ]
  },
  {
   "cell_type": "code",
   "execution_count": 586,
   "metadata": {},
   "outputs": [
    {
     "data": {
      "text/plain": [
       "array(['2', '3', '4', '1', '5+'], dtype=object)"
      ]
     },
     "execution_count": 586,
     "metadata": {},
     "output_type": "execute_result"
    }
   ],
   "source": [
    "user_features['household_size_desc'].unique()"
   ]
  },
  {
   "cell_type": "code",
   "execution_count": 587,
   "metadata": {},
   "outputs": [
    {
     "data": {
      "text/plain": [
       "array(['35-49K', '50-74K', '25-34K', '75-99K', 'Under 15K', '100-124K',\n",
       "       '15-24K', '125-149K', '150-174K', '250K+', '175-199K', '200-249K'],\n",
       "      dtype=object)"
      ]
     },
     "execution_count": 587,
     "metadata": {},
     "output_type": "execute_result"
    }
   ],
   "source": [
    "user_features['income_desc'].unique()"
   ]
  },
  {
   "cell_type": "code",
   "execution_count": 588,
   "metadata": {},
   "outputs": [
    {
     "data": {
      "text/html": [
       "<div>\n",
       "<style scoped>\n",
       "    .dataframe tbody tr th:only-of-type {\n",
       "        vertical-align: middle;\n",
       "    }\n",
       "\n",
       "    .dataframe tbody tr th {\n",
       "        vertical-align: top;\n",
       "    }\n",
       "\n",
       "    .dataframe thead th {\n",
       "        text-align: right;\n",
       "    }\n",
       "</style>\n",
       "<table border=\"1\" class=\"dataframe\">\n",
       "  <thead>\n",
       "    <tr style=\"text-align: right;\">\n",
       "      <th></th>\n",
       "      <th>user_id</th>\n",
       "      <th>basket_id</th>\n",
       "      <th>day</th>\n",
       "      <th>item_id</th>\n",
       "      <th>quantity</th>\n",
       "      <th>sales_value</th>\n",
       "      <th>store_id</th>\n",
       "      <th>retail_disc</th>\n",
       "      <th>trans_time</th>\n",
       "      <th>week_no</th>\n",
       "      <th>...</th>\n",
       "      <th>department</th>\n",
       "      <th>brand</th>\n",
       "      <th>commodity_desc</th>\n",
       "      <th>age_desc</th>\n",
       "      <th>marital_status_code</th>\n",
       "      <th>income_desc</th>\n",
       "      <th>homeowner_desc</th>\n",
       "      <th>hh_comp_desc</th>\n",
       "      <th>household_size_desc</th>\n",
       "      <th>kid_category_desc</th>\n",
       "    </tr>\n",
       "  </thead>\n",
       "  <tbody>\n",
       "    <tr>\n",
       "      <th>0</th>\n",
       "      <td>2375</td>\n",
       "      <td>26984851472</td>\n",
       "      <td>1</td>\n",
       "      <td>1004906</td>\n",
       "      <td>1</td>\n",
       "      <td>1.39</td>\n",
       "      <td>364</td>\n",
       "      <td>-0.60</td>\n",
       "      <td>1631</td>\n",
       "      <td>1</td>\n",
       "      <td>...</td>\n",
       "      <td>PRODUCE</td>\n",
       "      <td>Private</td>\n",
       "      <td>POTATOES</td>\n",
       "      <td>NaN</td>\n",
       "      <td>NaN</td>\n",
       "      <td>NaN</td>\n",
       "      <td>NaN</td>\n",
       "      <td>NaN</td>\n",
       "      <td>NaN</td>\n",
       "      <td>NaN</td>\n",
       "    </tr>\n",
       "    <tr>\n",
       "      <th>1</th>\n",
       "      <td>2375</td>\n",
       "      <td>26984851472</td>\n",
       "      <td>1</td>\n",
       "      <td>1033142</td>\n",
       "      <td>1</td>\n",
       "      <td>0.82</td>\n",
       "      <td>364</td>\n",
       "      <td>0.00</td>\n",
       "      <td>1631</td>\n",
       "      <td>1</td>\n",
       "      <td>...</td>\n",
       "      <td>PRODUCE</td>\n",
       "      <td>National</td>\n",
       "      <td>ONIONS</td>\n",
       "      <td>NaN</td>\n",
       "      <td>NaN</td>\n",
       "      <td>NaN</td>\n",
       "      <td>NaN</td>\n",
       "      <td>NaN</td>\n",
       "      <td>NaN</td>\n",
       "      <td>NaN</td>\n",
       "    </tr>\n",
       "    <tr>\n",
       "      <th>2</th>\n",
       "      <td>2375</td>\n",
       "      <td>26984851472</td>\n",
       "      <td>1</td>\n",
       "      <td>1036325</td>\n",
       "      <td>1</td>\n",
       "      <td>0.99</td>\n",
       "      <td>364</td>\n",
       "      <td>-0.30</td>\n",
       "      <td>1631</td>\n",
       "      <td>1</td>\n",
       "      <td>...</td>\n",
       "      <td>PRODUCE</td>\n",
       "      <td>Private</td>\n",
       "      <td>VEGETABLES - ALL OTHERS</td>\n",
       "      <td>NaN</td>\n",
       "      <td>NaN</td>\n",
       "      <td>NaN</td>\n",
       "      <td>NaN</td>\n",
       "      <td>NaN</td>\n",
       "      <td>NaN</td>\n",
       "      <td>NaN</td>\n",
       "    </tr>\n",
       "    <tr>\n",
       "      <th>3</th>\n",
       "      <td>2375</td>\n",
       "      <td>26984851472</td>\n",
       "      <td>1</td>\n",
       "      <td>1082185</td>\n",
       "      <td>1</td>\n",
       "      <td>1.21</td>\n",
       "      <td>364</td>\n",
       "      <td>0.00</td>\n",
       "      <td>1631</td>\n",
       "      <td>1</td>\n",
       "      <td>...</td>\n",
       "      <td>PRODUCE</td>\n",
       "      <td>National</td>\n",
       "      <td>TROPICAL FRUIT</td>\n",
       "      <td>NaN</td>\n",
       "      <td>NaN</td>\n",
       "      <td>NaN</td>\n",
       "      <td>NaN</td>\n",
       "      <td>NaN</td>\n",
       "      <td>NaN</td>\n",
       "      <td>NaN</td>\n",
       "    </tr>\n",
       "    <tr>\n",
       "      <th>4</th>\n",
       "      <td>2375</td>\n",
       "      <td>26984851472</td>\n",
       "      <td>1</td>\n",
       "      <td>8160430</td>\n",
       "      <td>1</td>\n",
       "      <td>1.50</td>\n",
       "      <td>364</td>\n",
       "      <td>-0.39</td>\n",
       "      <td>1631</td>\n",
       "      <td>1</td>\n",
       "      <td>...</td>\n",
       "      <td>PRODUCE</td>\n",
       "      <td>Private</td>\n",
       "      <td>ORGANICS FRUIT &amp; VEGETABLES</td>\n",
       "      <td>NaN</td>\n",
       "      <td>NaN</td>\n",
       "      <td>NaN</td>\n",
       "      <td>NaN</td>\n",
       "      <td>NaN</td>\n",
       "      <td>NaN</td>\n",
       "      <td>NaN</td>\n",
       "    </tr>\n",
       "  </tbody>\n",
       "</table>\n",
       "<p>5 rows × 22 columns</p>\n",
       "</div>"
      ],
      "text/plain": [
       "   user_id    basket_id  day  item_id  quantity  sales_value  store_id  \\\n",
       "0     2375  26984851472    1  1004906         1         1.39       364   \n",
       "1     2375  26984851472    1  1033142         1         0.82       364   \n",
       "2     2375  26984851472    1  1036325         1         0.99       364   \n",
       "3     2375  26984851472    1  1082185         1         1.21       364   \n",
       "4     2375  26984851472    1  8160430         1         1.50       364   \n",
       "\n",
       "   retail_disc  trans_time  week_no  ...  department     brand  \\\n",
       "0        -0.60        1631        1  ...     PRODUCE   Private   \n",
       "1         0.00        1631        1  ...     PRODUCE  National   \n",
       "2        -0.30        1631        1  ...     PRODUCE   Private   \n",
       "3         0.00        1631        1  ...     PRODUCE  National   \n",
       "4        -0.39        1631        1  ...     PRODUCE   Private   \n",
       "\n",
       "                commodity_desc age_desc marital_status_code income_desc  \\\n",
       "0                     POTATOES      NaN                 NaN         NaN   \n",
       "1                       ONIONS      NaN                 NaN         NaN   \n",
       "2      VEGETABLES - ALL OTHERS      NaN                 NaN         NaN   \n",
       "3               TROPICAL FRUIT      NaN                 NaN         NaN   \n",
       "4  ORGANICS FRUIT & VEGETABLES      NaN                 NaN         NaN   \n",
       "\n",
       "  homeowner_desc hh_comp_desc household_size_desc kid_category_desc  \n",
       "0            NaN          NaN                 NaN               NaN  \n",
       "1            NaN          NaN                 NaN               NaN  \n",
       "2            NaN          NaN                 NaN               NaN  \n",
       "3            NaN          NaN                 NaN               NaN  \n",
       "4            NaN          NaN                 NaN               NaN  \n",
       "\n",
       "[5 rows x 22 columns]"
      ]
     },
     "execution_count": 588,
     "metadata": {},
     "output_type": "execute_result"
    }
   ],
   "source": [
    "data_all = pd.merge(data, item_features[['item_id', 'department', 'brand', 'commodity_desc']], how='left', on=\"item_id\")\n",
    "data_all = pd.merge(data_all, user_features, how='left', on=\"user_id\")\n",
    "data_all.head()"
   ]
  },
  {
   "cell_type": "code",
   "execution_count": 589,
   "metadata": {},
   "outputs": [
    {
     "name": "stdout",
     "output_type": "stream",
     "text": [
      "<class 'pandas.core.frame.DataFrame'>\n",
      "Int64Index: 2396804 entries, 0 to 2396803\n",
      "Data columns (total 22 columns):\n",
      " #   Column               Dtype  \n",
      "---  ------               -----  \n",
      " 0   user_id              int64  \n",
      " 1   basket_id            int64  \n",
      " 2   day                  int64  \n",
      " 3   item_id              int64  \n",
      " 4   quantity             int64  \n",
      " 5   sales_value          float64\n",
      " 6   store_id             int64  \n",
      " 7   retail_disc          float64\n",
      " 8   trans_time           int64  \n",
      " 9   week_no              int64  \n",
      " 10  coupon_disc          float64\n",
      " 11  coupon_match_disc    float64\n",
      " 12  department           object \n",
      " 13  brand                object \n",
      " 14  commodity_desc       object \n",
      " 15  age_desc             object \n",
      " 16  marital_status_code  object \n",
      " 17  income_desc          object \n",
      " 18  homeowner_desc       object \n",
      " 19  hh_comp_desc         object \n",
      " 20  household_size_desc  object \n",
      " 21  kid_category_desc    object \n",
      "dtypes: float64(4), int64(8), object(10)\n",
      "memory usage: 420.6+ MB\n"
     ]
    }
   ],
   "source": [
    "data_all.info()"
   ]
  },
  {
   "cell_type": "code",
   "execution_count": 590,
   "metadata": {},
   "outputs": [
    {
     "data": {
      "image/png": "[encoded data removed]",
      "text/plain": [
       "<Figure size 1080x360 with 1 Axes>"
      ]
     },
     "metadata": {
      "needs_background": "light"
     },
     "output_type": "display_data"
    },
    {
     "data": {
      "image/png": "[encoded data removed]",
      "text/plain": [
       "<Figure size 1080x360 with 1 Axes>"
      ]
     },
     "metadata": {
      "needs_background": "light"
     },
     "output_type": "display_data"
    },
    {
     "data": {
      "image/png": "[encoded data removed]",
      "text/plain": [
       "<Figure size 1080x360 with 1 Axes>"
      ]
     },
     "metadata": {
      "needs_background": "light"
     },
     "output_type": "display_data"
    },
    {
     "data": {
      "image/png": "[encoded data removed]",
      "text/plain": [
       "<Figure size 1080x360 with 1 Axes>"
      ]
     },
     "metadata": {
      "needs_background": "light"
     },
     "output_type": "display_data"
    },
    {
     "data": {
      "image/png": "[encoded data removed]",
      "text/plain": [
       "<Figure size 1080x360 with 1 Axes>"
      ]
     },
     "metadata": {
      "needs_background": "light"
     },
     "output_type": "display_data"
    },
    {
     "data": {
      "image/png": "[encoded data removed]",
      "text/plain": [
       "<Figure size 1080x360 with 1 Axes>"
      ]
     },
     "metadata": {
      "needs_background": "light"
     },
     "output_type": "display_data"
    },
    {
     "data": {
      "image/png": "[encoded data removed]",
      "text/plain": [
       "<Figure size 1080x360 with 1 Axes>"
      ]
     },
     "metadata": {
      "needs_background": "light"
     },
     "output_type": "display_data"
    },
    {
     "data": {
      "image/png": "[encoded data removed]",
      "text/plain": [
       "<Figure size 1080x360 with 1 Axes>"
      ]
     },
     "metadata": {
      "needs_background": "light"
     },
     "output_type": "display_data"
    },
    {
     "data": {
      "image/png": "[encoded data removed]",
      "text/plain": [
       "<Figure size 1080x360 with 1 Axes>"
      ]
     },
     "metadata": {
      "needs_background": "light"
     },
     "output_type": "display_data"
    },
    {
     "data": {
      "image/png": "[encoded data removed]",
      "text/plain": [
       "<Figure size 1080x360 with 1 Axes>"
      ]
     },
     "metadata": {
      "needs_background": "light"
     },
     "output_type": "display_data"
    }
   ],
   "source": [
    "#по категориальным признакам можно посмотреть количественное распределение\n",
    "import seaborn\n",
    "\n",
    "\n",
    "for column in data_all.columns:\n",
    "    \n",
    "    if data_all[column].dtypes == 'object':\n",
    "        plt.figure(figsize=(15, 5))\n",
    "\n",
    "        sns.countplot(x=column, data=data_all)\n",
    "        #plt.title('')\n",
    "\n",
    "        plt.show()"
   ]
  },
  {
   "cell_type": "code",
   "execution_count": 591,
   "metadata": {},
   "outputs": [
    {
     "data": {
      "text/html": [
       "<div>\n",
       "<style scoped>\n",
       "    .dataframe tbody tr th:only-of-type {\n",
       "        vertical-align: middle;\n",
       "    }\n",
       "\n",
       "    .dataframe tbody tr th {\n",
       "        vertical-align: top;\n",
       "    }\n",
       "\n",
       "    .dataframe thead th {\n",
       "        text-align: right;\n",
       "    }\n",
       "</style>\n",
       "<table border=\"1\" class=\"dataframe\">\n",
       "  <thead>\n",
       "    <tr style=\"text-align: right;\">\n",
       "      <th></th>\n",
       "      <th>income_desc</th>\n",
       "      <th>department</th>\n",
       "      <th>count_in_dep</th>\n",
       "    </tr>\n",
       "  </thead>\n",
       "  <tbody>\n",
       "    <tr>\n",
       "      <th>335</th>\n",
       "      <td>Under 15K</td>\n",
       "      <td>KIOSK-GAS</td>\n",
       "      <td>8526950</td>\n",
       "    </tr>\n",
       "    <tr>\n",
       "      <th>338</th>\n",
       "      <td>Under 15K</td>\n",
       "      <td>MISC SALES TRAN</td>\n",
       "      <td>1214601</td>\n",
       "    </tr>\n",
       "    <tr>\n",
       "      <th>333</th>\n",
       "      <td>Under 15K</td>\n",
       "      <td>GROCERY</td>\n",
       "      <td>96770</td>\n",
       "    </tr>\n",
       "    <tr>\n",
       "      <th>302</th>\n",
       "      <td>75-99K</td>\n",
       "      <td>KIOSK-GAS</td>\n",
       "      <td>18886779</td>\n",
       "    </tr>\n",
       "    <tr>\n",
       "      <th>305</th>\n",
       "      <td>75-99K</td>\n",
       "      <td>MISC SALES TRAN</td>\n",
       "      <td>848068</td>\n",
       "    </tr>\n",
       "    <tr>\n",
       "      <th>301</th>\n",
       "      <td>75-99K</td>\n",
       "      <td>GROCERY</td>\n",
       "      <td>129549</td>\n",
       "    </tr>\n",
       "    <tr>\n",
       "      <th>269</th>\n",
       "      <td>50-74K</td>\n",
       "      <td>KIOSK-GAS</td>\n",
       "      <td>36800775</td>\n",
       "    </tr>\n",
       "    <tr>\n",
       "      <th>273</th>\n",
       "      <td>50-74K</td>\n",
       "      <td>MISC SALES TRAN</td>\n",
       "      <td>3224582</td>\n",
       "    </tr>\n",
       "    <tr>\n",
       "      <th>267</th>\n",
       "      <td>50-74K</td>\n",
       "      <td>GROCERY</td>\n",
       "      <td>262244</td>\n",
       "    </tr>\n",
       "    <tr>\n",
       "      <th>234</th>\n",
       "      <td>35-49K</td>\n",
       "      <td>KIOSK-GAS</td>\n",
       "      <td>23941573</td>\n",
       "    </tr>\n",
       "    <tr>\n",
       "      <th>238</th>\n",
       "      <td>35-49K</td>\n",
       "      <td>MISC SALES TRAN</td>\n",
       "      <td>2089497</td>\n",
       "    </tr>\n",
       "    <tr>\n",
       "      <th>233</th>\n",
       "      <td>35-49K</td>\n",
       "      <td>GROCERY</td>\n",
       "      <td>222182</td>\n",
       "    </tr>\n",
       "    <tr>\n",
       "      <th>203</th>\n",
       "      <td>250K+</td>\n",
       "      <td>KIOSK-GAS</td>\n",
       "      <td>995500</td>\n",
       "    </tr>\n",
       "    <tr>\n",
       "      <th>207</th>\n",
       "      <td>250K+</td>\n",
       "      <td>MISC SALES TRAN</td>\n",
       "      <td>601223</td>\n",
       "    </tr>\n",
       "    <tr>\n",
       "      <th>202</th>\n",
       "      <td>250K+</td>\n",
       "      <td>GROCERY</td>\n",
       "      <td>22319</td>\n",
       "    </tr>\n",
       "    <tr>\n",
       "      <th>176</th>\n",
       "      <td>25-34K</td>\n",
       "      <td>KIOSK-GAS</td>\n",
       "      <td>8253968</td>\n",
       "    </tr>\n",
       "    <tr>\n",
       "      <th>179</th>\n",
       "      <td>25-34K</td>\n",
       "      <td>MISC SALES TRAN</td>\n",
       "      <td>1704735</td>\n",
       "    </tr>\n",
       "    <tr>\n",
       "      <th>175</th>\n",
       "      <td>25-34K</td>\n",
       "      <td>GROCERY</td>\n",
       "      <td>106443</td>\n",
       "    </tr>\n",
       "    <tr>\n",
       "      <th>148</th>\n",
       "      <td>200-249K</td>\n",
       "      <td>KIOSK-GAS</td>\n",
       "      <td>161448</td>\n",
       "    </tr>\n",
       "    <tr>\n",
       "      <th>151</th>\n",
       "      <td>200-249K</td>\n",
       "      <td>MISC SALES TRAN</td>\n",
       "      <td>12916</td>\n",
       "    </tr>\n",
       "    <tr>\n",
       "      <th>147</th>\n",
       "      <td>200-249K</td>\n",
       "      <td>GROCERY</td>\n",
       "      <td>5211</td>\n",
       "    </tr>\n",
       "    <tr>\n",
       "      <th>126</th>\n",
       "      <td>175-199K</td>\n",
       "      <td>MISC SALES TRAN</td>\n",
       "      <td>1855595</td>\n",
       "    </tr>\n",
       "    <tr>\n",
       "      <th>123</th>\n",
       "      <td>175-199K</td>\n",
       "      <td>KIOSK-GAS</td>\n",
       "      <td>1323498</td>\n",
       "    </tr>\n",
       "    <tr>\n",
       "      <th>122</th>\n",
       "      <td>175-199K</td>\n",
       "      <td>GROCERY</td>\n",
       "      <td>16175</td>\n",
       "    </tr>\n",
       "    <tr>\n",
       "      <th>98</th>\n",
       "      <td>150-174K</td>\n",
       "      <td>KIOSK-GAS</td>\n",
       "      <td>7053882</td>\n",
       "    </tr>\n",
       "    <tr>\n",
       "      <th>101</th>\n",
       "      <td>150-174K</td>\n",
       "      <td>MISC SALES TRAN</td>\n",
       "      <td>2440581</td>\n",
       "    </tr>\n",
       "    <tr>\n",
       "      <th>97</th>\n",
       "      <td>150-174K</td>\n",
       "      <td>GROCERY</td>\n",
       "      <td>48494</td>\n",
       "    </tr>\n",
       "    <tr>\n",
       "      <th>71</th>\n",
       "      <td>15-24K</td>\n",
       "      <td>KIOSK-GAS</td>\n",
       "      <td>6883833</td>\n",
       "    </tr>\n",
       "    <tr>\n",
       "      <th>74</th>\n",
       "      <td>15-24K</td>\n",
       "      <td>MISC SALES TRAN</td>\n",
       "      <td>547707</td>\n",
       "    </tr>\n",
       "    <tr>\n",
       "      <th>70</th>\n",
       "      <td>15-24K</td>\n",
       "      <td>GROCERY</td>\n",
       "      <td>83984</td>\n",
       "    </tr>\n",
       "    <tr>\n",
       "      <th>42</th>\n",
       "      <td>125-149K</td>\n",
       "      <td>KIOSK-GAS</td>\n",
       "      <td>9161070</td>\n",
       "    </tr>\n",
       "    <tr>\n",
       "      <th>45</th>\n",
       "      <td>125-149K</td>\n",
       "      <td>MISC SALES TRAN</td>\n",
       "      <td>3115353</td>\n",
       "    </tr>\n",
       "    <tr>\n",
       "      <th>41</th>\n",
       "      <td>125-149K</td>\n",
       "      <td>GROCERY</td>\n",
       "      <td>63034</td>\n",
       "    </tr>\n",
       "    <tr>\n",
       "      <th>12</th>\n",
       "      <td>100-124K</td>\n",
       "      <td>KIOSK-GAS</td>\n",
       "      <td>7655653</td>\n",
       "    </tr>\n",
       "    <tr>\n",
       "      <th>15</th>\n",
       "      <td>100-124K</td>\n",
       "      <td>MISC SALES TRAN</td>\n",
       "      <td>2281394</td>\n",
       "    </tr>\n",
       "    <tr>\n",
       "      <th>11</th>\n",
       "      <td>100-124K</td>\n",
       "      <td>GROCERY</td>\n",
       "      <td>44560</td>\n",
       "    </tr>\n",
       "  </tbody>\n",
       "</table>\n",
       "</div>"
      ],
      "text/plain": [
       "    income_desc       department  count_in_dep\n",
       "335   Under 15K        KIOSK-GAS       8526950\n",
       "338   Under 15K  MISC SALES TRAN       1214601\n",
       "333   Under 15K          GROCERY         96770\n",
       "302      75-99K        KIOSK-GAS      18886779\n",
       "305      75-99K  MISC SALES TRAN        848068\n",
       "301      75-99K          GROCERY        129549\n",
       "269      50-74K        KIOSK-GAS      36800775\n",
       "273      50-74K  MISC SALES TRAN       3224582\n",
       "267      50-74K          GROCERY        262244\n",
       "234      35-49K        KIOSK-GAS      23941573\n",
       "238      35-49K  MISC SALES TRAN       2089497\n",
       "233      35-49K          GROCERY        222182\n",
       "203       250K+        KIOSK-GAS        995500\n",
       "207       250K+  MISC SALES TRAN        601223\n",
       "202       250K+          GROCERY         22319\n",
       "176      25-34K        KIOSK-GAS       8253968\n",
       "179      25-34K  MISC SALES TRAN       1704735\n",
       "175      25-34K          GROCERY        106443\n",
       "148    200-249K        KIOSK-GAS        161448\n",
       "151    200-249K  MISC SALES TRAN         12916\n",
       "147    200-249K          GROCERY          5211\n",
       "126    175-199K  MISC SALES TRAN       1855595\n",
       "123    175-199K        KIOSK-GAS       1323498\n",
       "122    175-199K          GROCERY         16175\n",
       "98     150-174K        KIOSK-GAS       7053882\n",
       "101    150-174K  MISC SALES TRAN       2440581\n",
       "97     150-174K          GROCERY         48494\n",
       "71       15-24K        KIOSK-GAS       6883833\n",
       "74       15-24K  MISC SALES TRAN        547707\n",
       "70       15-24K          GROCERY         83984\n",
       "42     125-149K        KIOSK-GAS       9161070\n",
       "45     125-149K  MISC SALES TRAN       3115353\n",
       "41     125-149K          GROCERY         63034\n",
       "12     100-124K        KIOSK-GAS       7655653\n",
       "15     100-124K  MISC SALES TRAN       2281394\n",
       "11     100-124K          GROCERY         44560"
      ]
     },
     "execution_count": 591,
     "metadata": {},
     "output_type": "execute_result"
    }
   ],
   "source": [
    "# удивительно, но самые популярные отделы товаров одинаковые у всех категорий по доходам, немного только отличается порядок\n",
    "pop_dep_by_income = data_all.groupby(['income_desc', 'department'], as_index=False).agg({'quantity':'sum'})\\\n",
    "                       .rename(columns={'quantity':'count_in_dep'})\n",
    "\n",
    "pop_dep_by_income = pop_dep_by_income.sort_values(['income_desc','count_in_dep'],ascending=False).groupby('income_desc').head(3)\n",
    "pop_dep_by_income"
   ]
  },
  {
   "cell_type": "markdown",
   "metadata": {},
   "source": [
    "### 3. LightFM"
   ]
  },
  {
   "cell_type": "markdown",
   "metadata": {},
   "source": [
    "У этого алогритма есть множество параметров (item/user_alpha, loss, no_components).  \n",
    "Проведите эксперименты аналогично дз 3 (подберите гипперпараметры каким удобно способои и постройте графики)  \n",
    "На выходе необходимо получить pr@5 на валидации (последние 3 недели) > 17%  \n",
    "\n",
    "У Вас, скорее всего, возникнет проблема со временем обучения. Почему они возникает?    \n",
    "\n",
    "Попробуйте запустить алгоритм вообще без фичей или используйте только признаки с небольшим числом уникальных категорий. (item_features['commodity_desc'].unique() - 300 уникальных категорий - это очень много)"
   ]
  },
  {
   "cell_type": "markdown",
   "metadata": {},
   "source": [
    "### *Отбор признаков* * "
   ]
  },
  {
   "cell_type": "markdown",
   "metadata": {},
   "source": [
    "Все данные категориальные, при ohe кодировании для товаров признаков становится невероятно много.      \n",
    "Какие стратегии отбора признаков в классическом ML Вы знаете? Применимы ли они тут?  \n",
    "\n",
    "Попробйте какие-нибудь стратегии. Удалось ли улучшить качество?\n",
    "\n",
    " \\* *задание необязательно*\n"
   ]
  },
  {
   "cell_type": "code",
   "execution_count": 640,
   "metadata": {},
   "outputs": [
    {
     "data": {
      "text/html": [
       "<div>\n",
       "<style scoped>\n",
       "    .dataframe tbody tr th:only-of-type {\n",
       "        vertical-align: middle;\n",
       "    }\n",
       "\n",
       "    .dataframe tbody tr th {\n",
       "        vertical-align: top;\n",
       "    }\n",
       "\n",
       "    .dataframe thead th {\n",
       "        text-align: right;\n",
       "    }\n",
       "</style>\n",
       "<table border=\"1\" class=\"dataframe\">\n",
       "  <thead>\n",
       "    <tr style=\"text-align: right;\">\n",
       "      <th></th>\n",
       "      <th>user_id</th>\n",
       "      <th>basket_id</th>\n",
       "      <th>day</th>\n",
       "      <th>item_id</th>\n",
       "      <th>quantity</th>\n",
       "      <th>sales_value</th>\n",
       "      <th>store_id</th>\n",
       "      <th>retail_disc</th>\n",
       "      <th>trans_time</th>\n",
       "      <th>week_no</th>\n",
       "      <th>coupon_disc</th>\n",
       "      <th>coupon_match_disc</th>\n",
       "    </tr>\n",
       "  </thead>\n",
       "  <tbody>\n",
       "    <tr>\n",
       "      <th>0</th>\n",
       "      <td>2375</td>\n",
       "      <td>26984851472</td>\n",
       "      <td>1</td>\n",
       "      <td>1004906</td>\n",
       "      <td>1</td>\n",
       "      <td>1.39</td>\n",
       "      <td>364</td>\n",
       "      <td>-0.6</td>\n",
       "      <td>1631</td>\n",
       "      <td>1</td>\n",
       "      <td>0.0</td>\n",
       "      <td>0.0</td>\n",
       "    </tr>\n",
       "    <tr>\n",
       "      <th>1</th>\n",
       "      <td>2375</td>\n",
       "      <td>26984851472</td>\n",
       "      <td>1</td>\n",
       "      <td>1033142</td>\n",
       "      <td>1</td>\n",
       "      <td>0.82</td>\n",
       "      <td>364</td>\n",
       "      <td>0.0</td>\n",
       "      <td>1631</td>\n",
       "      <td>1</td>\n",
       "      <td>0.0</td>\n",
       "      <td>0.0</td>\n",
       "    </tr>\n",
       "  </tbody>\n",
       "</table>\n",
       "</div>"
      ],
      "text/plain": [
       "   user_id    basket_id  day  item_id  quantity  sales_value  store_id  \\\n",
       "0     2375  26984851472    1  1004906         1         1.39       364   \n",
       "1     2375  26984851472    1  1033142         1         0.82       364   \n",
       "\n",
       "   retail_disc  trans_time  week_no  coupon_disc  coupon_match_disc  \n",
       "0         -0.6        1631        1          0.0                0.0  \n",
       "1          0.0        1631        1          0.0                0.0  "
      ]
     },
     "execution_count": 640,
     "metadata": {},
     "output_type": "execute_result"
    }
   ],
   "source": [
    "data = pd.read_csv('retail_train.csv')\n",
    "item_features = pd.read_csv('product.csv')\n",
    "user_features = pd.read_csv('hh_demographic.csv')\n",
    "\n",
    "# column processing\n",
    "item_features.columns = [col.lower() for col in item_features.columns]\n",
    "user_features.columns = [col.lower() for col in user_features.columns]\n",
    "\n",
    "item_features.rename(columns={'product_id': 'item_id'}, inplace=True)\n",
    "user_features.rename(columns={'household_key': 'user_id'}, inplace=True)\n",
    "\n",
    "# train test split\n",
    "test_size_weeks = 3\n",
    "\n",
    "data_train = data[data['week_no'] < data['week_no'].max() - test_size_weeks]\n",
    "data_test = data[data['week_no'] >= data['week_no'].max() - test_size_weeks]\n",
    "\n",
    "data_train.head(2)"
   ]
  },
  {
   "cell_type": "markdown",
   "metadata": {
    "id": "onQ7pg5A8Zfj"
   },
   "source": [
    "## 1. Filter items"
   ]
  },
  {
   "cell_type": "code",
   "execution_count": 716,
   "metadata": {
    "colab": {
     "base_uri": "https://localhost:8080/"
    },
    "executionInfo": {
     "elapsed": 2149,
     "status": "ok",
     "timestamp": 1634560092461,
     "user": {
      "displayName": "Николай -",
      "photoUrl": "https://lh3.googleusercontent.com/a-/AOh14GiCS90olAsBznR3WLZOaJ5ukcv2LPYBRWvHEQUZ-A=s64",
      "userId": "17372739142422056321"
     },
     "user_tz": -180
    },
    "id": "ZKoqtqtW8Zfj",
    "outputId": "a9d4619b-e888-4e65-a5ce-2f14ade771cd"
   },
   "outputs": [
    {
     "name": "stdout",
     "output_type": "stream",
     "text": [
      "Decreased # items from 86865 to 5001\n"
     ]
    }
   ],
   "source": [
    "n_items_before = data_train['item_id'].nunique()\n",
    "\n",
    "data_train = prefilter_items(data_train)\n",
    "\n",
    "n_items_after = data_train['item_id'].nunique()\n",
    "print('Decreased # items from {} to {}'.format(n_items_before, n_items_after))"
   ]
  },
  {
   "cell_type": "code",
   "execution_count": 717,
   "metadata": {
    "executionInfo": {
     "elapsed": 447,
     "status": "ok",
     "timestamp": 1634560106338,
     "user": {
      "displayName": "Николай -",
      "photoUrl": "https://lh3.googleusercontent.com/a-/AOh14GiCS90olAsBznR3WLZOaJ5ukcv2LPYBRWvHEQUZ-A=s64",
      "userId": "17372739142422056321"
     },
     "user_tz": -180
    },
    "id": "28HsE4-VX7CF"
   },
   "outputs": [],
   "source": [
    "data_test = prefilter_items(data_test)"
   ]
  },
  {
   "cell_type": "markdown",
   "metadata": {
    "id": "UfnWhRXI8Zfk"
   },
   "source": [
    "## 2. Prepare data set"
   ]
  },
  {
   "cell_type": "code",
   "execution_count": 718,
   "metadata": {
    "colab": {
     "base_uri": "https://localhost:8080/",
     "height": 191
    },
    "executionInfo": {
     "elapsed": 2932,
     "status": "ok",
     "timestamp": 1634560111929,
     "user": {
      "displayName": "Николай -",
      "photoUrl": "https://lh3.googleusercontent.com/a-/AOh14GiCS90olAsBznR3WLZOaJ5ukcv2LPYBRWvHEQUZ-A=s64",
      "userId": "17372739142422056321"
     },
     "user_tz": -180
    },
    "id": "bDUhOlL08Zfk",
    "outputId": "202baed8-fdfe-413e-c574-220c0503aee3"
   },
   "outputs": [
    {
     "data": {
      "text/html": [
       "<div>\n",
       "<style scoped>\n",
       "    .dataframe tbody tr th:only-of-type {\n",
       "        vertical-align: middle;\n",
       "    }\n",
       "\n",
       "    .dataframe tbody tr th {\n",
       "        vertical-align: top;\n",
       "    }\n",
       "\n",
       "    .dataframe thead th {\n",
       "        text-align: right;\n",
       "    }\n",
       "</style>\n",
       "<table border=\"1\" class=\"dataframe\">\n",
       "  <thead>\n",
       "    <tr style=\"text-align: right;\">\n",
       "      <th>item_id</th>\n",
       "      <th>117847</th>\n",
       "      <th>279994</th>\n",
       "      <th>818981</th>\n",
       "      <th>819255</th>\n",
       "      <th>819308</th>\n",
       "      <th>819400</th>\n",
       "      <th>819487</th>\n",
       "      <th>819590</th>\n",
       "      <th>819594</th>\n",
       "      <th>819840</th>\n",
       "      <th>...</th>\n",
       "      <th>15926775</th>\n",
       "      <th>15926844</th>\n",
       "      <th>15926886</th>\n",
       "      <th>15972074</th>\n",
       "      <th>15972298</th>\n",
       "      <th>15972565</th>\n",
       "      <th>15972790</th>\n",
       "      <th>16100266</th>\n",
       "      <th>16729299</th>\n",
       "      <th>16729415</th>\n",
       "    </tr>\n",
       "    <tr>\n",
       "      <th>user_id</th>\n",
       "      <th></th>\n",
       "      <th></th>\n",
       "      <th></th>\n",
       "      <th></th>\n",
       "      <th></th>\n",
       "      <th></th>\n",
       "      <th></th>\n",
       "      <th></th>\n",
       "      <th></th>\n",
       "      <th></th>\n",
       "      <th></th>\n",
       "      <th></th>\n",
       "      <th></th>\n",
       "      <th></th>\n",
       "      <th></th>\n",
       "      <th></th>\n",
       "      <th></th>\n",
       "      <th></th>\n",
       "      <th></th>\n",
       "      <th></th>\n",
       "      <th></th>\n",
       "    </tr>\n",
       "  </thead>\n",
       "  <tbody>\n",
       "    <tr>\n",
       "      <th>1</th>\n",
       "      <td>0.0</td>\n",
       "      <td>0.0</td>\n",
       "      <td>0.0</td>\n",
       "      <td>0.0</td>\n",
       "      <td>0.0</td>\n",
       "      <td>0.0</td>\n",
       "      <td>0.0</td>\n",
       "      <td>0.0</td>\n",
       "      <td>0.0</td>\n",
       "      <td>0.0</td>\n",
       "      <td>...</td>\n",
       "      <td>0.0</td>\n",
       "      <td>1.0</td>\n",
       "      <td>0.0</td>\n",
       "      <td>0.0</td>\n",
       "      <td>0.0</td>\n",
       "      <td>0.0</td>\n",
       "      <td>0.0</td>\n",
       "      <td>0.0</td>\n",
       "      <td>0.0</td>\n",
       "      <td>0.0</td>\n",
       "    </tr>\n",
       "    <tr>\n",
       "      <th>2</th>\n",
       "      <td>0.0</td>\n",
       "      <td>0.0</td>\n",
       "      <td>0.0</td>\n",
       "      <td>0.0</td>\n",
       "      <td>0.0</td>\n",
       "      <td>0.0</td>\n",
       "      <td>0.0</td>\n",
       "      <td>0.0</td>\n",
       "      <td>0.0</td>\n",
       "      <td>0.0</td>\n",
       "      <td>...</td>\n",
       "      <td>0.0</td>\n",
       "      <td>0.0</td>\n",
       "      <td>0.0</td>\n",
       "      <td>0.0</td>\n",
       "      <td>0.0</td>\n",
       "      <td>0.0</td>\n",
       "      <td>0.0</td>\n",
       "      <td>0.0</td>\n",
       "      <td>0.0</td>\n",
       "      <td>0.0</td>\n",
       "    </tr>\n",
       "  </tbody>\n",
       "</table>\n",
       "<p>2 rows × 5001 columns</p>\n",
       "</div>"
      ],
      "text/plain": [
       "item_id  117847    279994    818981    819255    819308    819400    819487    \\\n",
       "user_id                                                                         \n",
       "1             0.0       0.0       0.0       0.0       0.0       0.0       0.0   \n",
       "2             0.0       0.0       0.0       0.0       0.0       0.0       0.0   \n",
       "\n",
       "item_id  819590    819594    819840    ...  15926775  15926844  15926886  \\\n",
       "user_id                                ...                                 \n",
       "1             0.0       0.0       0.0  ...       0.0       1.0       0.0   \n",
       "2             0.0       0.0       0.0  ...       0.0       0.0       0.0   \n",
       "\n",
       "item_id  15972074  15972298  15972565  15972790  16100266  16729299  16729415  \n",
       "user_id                                                                        \n",
       "1             0.0       0.0       0.0       0.0       0.0       0.0       0.0  \n",
       "2             0.0       0.0       0.0       0.0       0.0       0.0       0.0  \n",
       "\n",
       "[2 rows x 5001 columns]"
      ]
     },
     "execution_count": 718,
     "metadata": {},
     "output_type": "execute_result"
    }
   ],
   "source": [
    "# Заведем фиктивный item_id (если юзер покупал товары из топ-5000, то он \"купил\" такой товар)\n",
    "#data_train.loc[~data_train['item_id'].isin(top_5000), 'item_id'] = 999999 - уже сделано в src\n",
    "\n",
    "user_item_matrix = pd.pivot_table(data_train, \n",
    "                                  index='user_id', columns='item_id', \n",
    "                                  values='quantity', # Можно пробоват ьдругие варианты\n",
    "                                  aggfunc='mean', \n",
    "                                  fill_value=0\n",
    "                                 )\n",
    "\n",
    "user_item_matrix = user_item_matrix.astype(float) # необходимый тип матрицы для implicit\n",
    "\n",
    "# переведем в формат sparse matrix\n",
    "sparse_user_item = csr_matrix(user_item_matrix).tocsr()\n",
    "\n",
    "user_item_matrix.head(2)"
   ]
  },
  {
   "cell_type": "code",
   "execution_count": 719,
   "metadata": {
    "executionInfo": {
     "elapsed": 1943,
     "status": "ok",
     "timestamp": 1634560113863,
     "user": {
      "displayName": "Николай -",
      "photoUrl": "https://lh3.googleusercontent.com/a-/AOh14GiCS90olAsBznR3WLZOaJ5ukcv2LPYBRWvHEQUZ-A=s64",
      "userId": "17372739142422056321"
     },
     "user_tz": -180
    },
    "id": "bGDFSTuC8Zfl"
   },
   "outputs": [],
   "source": [
    "#data_test = data_test[data_test['item_id'].isin(data_train['item_id'].unique())]\n",
    "test_user_item_matrix = pd.pivot_table(data_test, \n",
    "                                  index='user_id', columns='item_id', \n",
    "                                  values='quantity', # Можно пробоват ьдругие варианты\n",
    "                                  aggfunc='mean', \n",
    "                                  fill_value=0\n",
    "                                 )\n",
    "\n",
    "test_user_item_matrix = test_user_item_matrix.astype(float)\n",
    "sparse_user_item_test = csr_matrix(test_user_item_matrix).tocsr()"
   ]
  },
  {
   "cell_type": "code",
   "execution_count": 720,
   "metadata": {
    "executionInfo": {
     "elapsed": 5,
     "status": "ok",
     "timestamp": 1634560113864,
     "user": {
      "displayName": "Николай -",
      "photoUrl": "https://lh3.googleusercontent.com/a-/AOh14GiCS90olAsBznR3WLZOaJ5ukcv2LPYBRWvHEQUZ-A=s64",
      "userId": "17372739142422056321"
     },
     "user_tz": -180
    },
    "id": "TFamzrKE8Zfl"
   },
   "outputs": [],
   "source": [
    "userids = user_item_matrix.index.values\n",
    "itemids = user_item_matrix.columns.values\n",
    "\n",
    "matrix_userids = np.arange(len(userids))\n",
    "matrix_itemids = np.arange(len(itemids))\n",
    "\n",
    "id_to_itemid = dict(zip(matrix_itemids, itemids))\n",
    "id_to_userid = dict(zip(matrix_userids, userids))\n",
    "\n",
    "itemid_to_id = dict(zip(itemids, matrix_itemids))\n",
    "userid_to_id = dict(zip(userids, matrix_userids))"
   ]
  },
  {
   "cell_type": "markdown",
   "metadata": {
    "id": "zfBbGAxm8Zfl"
   },
   "source": [
    "## 3. Prepare user and item features"
   ]
  },
  {
   "cell_type": "code",
   "execution_count": 652,
   "metadata": {
    "colab": {
     "base_uri": "https://localhost:8080/"
    },
    "executionInfo": {
     "elapsed": 16,
     "status": "ok",
     "timestamp": 1634560115921,
     "user": {
      "displayName": "Николай -",
      "photoUrl": "https://lh3.googleusercontent.com/a-/AOh14GiCS90olAsBznR3WLZOaJ5ukcv2LPYBRWvHEQUZ-A=s64",
      "userId": "17372739142422056321"
     },
     "user_tz": -180
    },
    "id": "XFUrD4dD8Zfm",
    "outputId": "d0a64a13-a4bf-4f4c-ba97-7c509f5769cd"
   },
   "outputs": [
    {
     "data": {
      "text/plain": [
       "Int64Index([   1,    2,    3,    4,    5,    6,    7,    8,    9,   10,\n",
       "            ...\n",
       "            2491, 2492, 2493, 2494, 2495, 2496, 2497, 2498, 2499, 2500],\n",
       "           dtype='int64', name='user_id', length=2497)"
      ]
     },
     "execution_count": 652,
     "metadata": {},
     "output_type": "execute_result"
    }
   ],
   "source": [
    "user_item_matrix.index"
   ]
  },
  {
   "cell_type": "code",
   "execution_count": 653,
   "metadata": {
    "colab": {
     "base_uri": "https://localhost:8080/",
     "height": 419
    },
    "executionInfo": {
     "elapsed": 9,
     "status": "ok",
     "timestamp": 1634560115922,
     "user": {
      "displayName": "Николай -",
      "photoUrl": "https://lh3.googleusercontent.com/a-/AOh14GiCS90olAsBznR3WLZOaJ5ukcv2LPYBRWvHEQUZ-A=s64",
      "userId": "17372739142422056321"
     },
     "user_tz": -180
    },
    "id": "FoIKT9Q78Zfm",
    "outputId": "92cfaa89-9ea6-43c3-c817-635eea9744c1"
   },
   "outputs": [
    {
     "data": {
      "text/html": [
       "<div>\n",
       "<style scoped>\n",
       "    .dataframe tbody tr th:only-of-type {\n",
       "        vertical-align: middle;\n",
       "    }\n",
       "\n",
       "    .dataframe tbody tr th {\n",
       "        vertical-align: top;\n",
       "    }\n",
       "\n",
       "    .dataframe thead th {\n",
       "        text-align: right;\n",
       "    }\n",
       "</style>\n",
       "<table border=\"1\" class=\"dataframe\">\n",
       "  <thead>\n",
       "    <tr style=\"text-align: right;\">\n",
       "      <th></th>\n",
       "      <th>age_desc</th>\n",
       "      <th>marital_status_code</th>\n",
       "      <th>income_desc</th>\n",
       "      <th>homeowner_desc</th>\n",
       "      <th>hh_comp_desc</th>\n",
       "      <th>household_size_desc</th>\n",
       "      <th>kid_category_desc</th>\n",
       "      <th>user_id</th>\n",
       "    </tr>\n",
       "  </thead>\n",
       "  <tbody>\n",
       "    <tr>\n",
       "      <th>0</th>\n",
       "      <td>65+</td>\n",
       "      <td>A</td>\n",
       "      <td>35-49K</td>\n",
       "      <td>Homeowner</td>\n",
       "      <td>2 Adults No Kids</td>\n",
       "      <td>2</td>\n",
       "      <td>None/Unknown</td>\n",
       "      <td>1</td>\n",
       "    </tr>\n",
       "    <tr>\n",
       "      <th>1</th>\n",
       "      <td>45-54</td>\n",
       "      <td>A</td>\n",
       "      <td>50-74K</td>\n",
       "      <td>Homeowner</td>\n",
       "      <td>2 Adults No Kids</td>\n",
       "      <td>2</td>\n",
       "      <td>None/Unknown</td>\n",
       "      <td>7</td>\n",
       "    </tr>\n",
       "    <tr>\n",
       "      <th>2</th>\n",
       "      <td>25-34</td>\n",
       "      <td>U</td>\n",
       "      <td>25-34K</td>\n",
       "      <td>Unknown</td>\n",
       "      <td>2 Adults Kids</td>\n",
       "      <td>3</td>\n",
       "      <td>1</td>\n",
       "      <td>8</td>\n",
       "    </tr>\n",
       "    <tr>\n",
       "      <th>3</th>\n",
       "      <td>25-34</td>\n",
       "      <td>U</td>\n",
       "      <td>75-99K</td>\n",
       "      <td>Homeowner</td>\n",
       "      <td>2 Adults Kids</td>\n",
       "      <td>4</td>\n",
       "      <td>2</td>\n",
       "      <td>13</td>\n",
       "    </tr>\n",
       "    <tr>\n",
       "      <th>4</th>\n",
       "      <td>45-54</td>\n",
       "      <td>B</td>\n",
       "      <td>50-74K</td>\n",
       "      <td>Homeowner</td>\n",
       "      <td>Single Female</td>\n",
       "      <td>1</td>\n",
       "      <td>None/Unknown</td>\n",
       "      <td>16</td>\n",
       "    </tr>\n",
       "    <tr>\n",
       "      <th>...</th>\n",
       "      <td>...</td>\n",
       "      <td>...</td>\n",
       "      <td>...</td>\n",
       "      <td>...</td>\n",
       "      <td>...</td>\n",
       "      <td>...</td>\n",
       "      <td>...</td>\n",
       "      <td>...</td>\n",
       "    </tr>\n",
       "    <tr>\n",
       "      <th>796</th>\n",
       "      <td>35-44</td>\n",
       "      <td>U</td>\n",
       "      <td>50-74K</td>\n",
       "      <td>Homeowner</td>\n",
       "      <td>2 Adults No Kids</td>\n",
       "      <td>2</td>\n",
       "      <td>None/Unknown</td>\n",
       "      <td>2494</td>\n",
       "    </tr>\n",
       "    <tr>\n",
       "      <th>797</th>\n",
       "      <td>45-54</td>\n",
       "      <td>A</td>\n",
       "      <td>75-99K</td>\n",
       "      <td>Homeowner</td>\n",
       "      <td>Unknown</td>\n",
       "      <td>3</td>\n",
       "      <td>1</td>\n",
       "      <td>2496</td>\n",
       "    </tr>\n",
       "    <tr>\n",
       "      <th>798</th>\n",
       "      <td>45-54</td>\n",
       "      <td>U</td>\n",
       "      <td>35-49K</td>\n",
       "      <td>Unknown</td>\n",
       "      <td>Single Male</td>\n",
       "      <td>1</td>\n",
       "      <td>None/Unknown</td>\n",
       "      <td>2497</td>\n",
       "    </tr>\n",
       "    <tr>\n",
       "      <th>799</th>\n",
       "      <td>25-34</td>\n",
       "      <td>U</td>\n",
       "      <td>50-74K</td>\n",
       "      <td>Homeowner</td>\n",
       "      <td>2 Adults No Kids</td>\n",
       "      <td>2</td>\n",
       "      <td>None/Unknown</td>\n",
       "      <td>2498</td>\n",
       "    </tr>\n",
       "    <tr>\n",
       "      <th>800</th>\n",
       "      <td>25-34</td>\n",
       "      <td>U</td>\n",
       "      <td>Under 15K</td>\n",
       "      <td>Unknown</td>\n",
       "      <td>2 Adults Kids</td>\n",
       "      <td>3</td>\n",
       "      <td>1</td>\n",
       "      <td>2499</td>\n",
       "    </tr>\n",
       "  </tbody>\n",
       "</table>\n",
       "<p>801 rows × 8 columns</p>\n",
       "</div>"
      ],
      "text/plain": [
       "    age_desc marital_status_code income_desc homeowner_desc      hh_comp_desc  \\\n",
       "0        65+                   A      35-49K      Homeowner  2 Adults No Kids   \n",
       "1      45-54                   A      50-74K      Homeowner  2 Adults No Kids   \n",
       "2      25-34                   U      25-34K        Unknown     2 Adults Kids   \n",
       "3      25-34                   U      75-99K      Homeowner     2 Adults Kids   \n",
       "4      45-54                   B      50-74K      Homeowner     Single Female   \n",
       "..       ...                 ...         ...            ...               ...   \n",
       "796    35-44                   U      50-74K      Homeowner  2 Adults No Kids   \n",
       "797    45-54                   A      75-99K      Homeowner           Unknown   \n",
       "798    45-54                   U      35-49K        Unknown       Single Male   \n",
       "799    25-34                   U      50-74K      Homeowner  2 Adults No Kids   \n",
       "800    25-34                   U   Under 15K        Unknown     2 Adults Kids   \n",
       "\n",
       "    household_size_desc kid_category_desc  user_id  \n",
       "0                     2      None/Unknown        1  \n",
       "1                     2      None/Unknown        7  \n",
       "2                     3                 1        8  \n",
       "3                     4                 2       13  \n",
       "4                     1      None/Unknown       16  \n",
       "..                  ...               ...      ...  \n",
       "796                   2      None/Unknown     2494  \n",
       "797                   3                 1     2496  \n",
       "798                   1      None/Unknown     2497  \n",
       "799                   2      None/Unknown     2498  \n",
       "800                   3                 1     2499  \n",
       "\n",
       "[801 rows x 8 columns]"
      ]
     },
     "execution_count": 653,
     "metadata": {},
     "output_type": "execute_result"
    }
   ],
   "source": [
    "user_features"
   ]
  },
  {
   "cell_type": "code",
   "execution_count": 738,
   "metadata": {
    "colab": {
     "base_uri": "https://localhost:8080/",
     "height": 142
    },
    "executionInfo": {
     "elapsed": 66,
     "status": "ok",
     "timestamp": 1634560116368,
     "user": {
      "displayName": "Николай -",
      "photoUrl": "https://lh3.googleusercontent.com/a-/AOh14GiCS90olAsBznR3WLZOaJ5ukcv2LPYBRWvHEQUZ-A=s64",
      "userId": "17372739142422056321"
     },
     "user_tz": -180
    },
    "id": "SjBLEu_d8Zfm",
    "outputId": "0c5411a2-bac0-49da-b0b1-08fe8b6df632",
    "scrolled": true
   },
   "outputs": [
    {
     "data": {
      "text/html": [
       "<div>\n",
       "<style scoped>\n",
       "    .dataframe tbody tr th:only-of-type {\n",
       "        vertical-align: middle;\n",
       "    }\n",
       "\n",
       "    .dataframe tbody tr th {\n",
       "        vertical-align: top;\n",
       "    }\n",
       "\n",
       "    .dataframe thead th {\n",
       "        text-align: right;\n",
       "    }\n",
       "</style>\n",
       "<table border=\"1\" class=\"dataframe\">\n",
       "  <thead>\n",
       "    <tr style=\"text-align: right;\">\n",
       "      <th></th>\n",
       "      <th>age_desc</th>\n",
       "      <th>marital_status_code</th>\n",
       "      <th>income_desc</th>\n",
       "      <th>homeowner_desc</th>\n",
       "      <th>hh_comp_desc</th>\n",
       "      <th>household_size_desc</th>\n",
       "      <th>kid_category_desc</th>\n",
       "    </tr>\n",
       "    <tr>\n",
       "      <th>user_id</th>\n",
       "      <th></th>\n",
       "      <th></th>\n",
       "      <th></th>\n",
       "      <th></th>\n",
       "      <th></th>\n",
       "      <th></th>\n",
       "      <th></th>\n",
       "    </tr>\n",
       "  </thead>\n",
       "  <tbody>\n",
       "    <tr>\n",
       "      <th>1</th>\n",
       "      <td>65+</td>\n",
       "      <td>A</td>\n",
       "      <td>35-49K</td>\n",
       "      <td>Homeowner</td>\n",
       "      <td>2 Adults No Kids</td>\n",
       "      <td>2</td>\n",
       "      <td>None/Unknown</td>\n",
       "    </tr>\n",
       "    <tr>\n",
       "      <th>2</th>\n",
       "      <td>NaN</td>\n",
       "      <td>NaN</td>\n",
       "      <td>NaN</td>\n",
       "      <td>NaN</td>\n",
       "      <td>NaN</td>\n",
       "      <td>NaN</td>\n",
       "      <td>NaN</td>\n",
       "    </tr>\n",
       "  </tbody>\n",
       "</table>\n",
       "</div>"
      ],
      "text/plain": [
       "        age_desc marital_status_code income_desc homeowner_desc  \\\n",
       "user_id                                                           \n",
       "1            65+                   A      35-49K      Homeowner   \n",
       "2            NaN                 NaN         NaN            NaN   \n",
       "\n",
       "             hh_comp_desc household_size_desc kid_category_desc  \n",
       "user_id                                                          \n",
       "1        2 Adults No Kids                   2      None/Unknown  \n",
       "2                     NaN                 NaN               NaN  "
      ]
     },
     "execution_count": 738,
     "metadata": {},
     "output_type": "execute_result"
    }
   ],
   "source": [
    "user_feat = pd.DataFrame(user_item_matrix.index)\n",
    "user_feat = user_feat.merge(user_features, on='user_id', how='left')\n",
    "#.drop(columns=['...''])\n",
    "user_feat.set_index('user_id', inplace=True)\n",
    "\n",
    "#уберем слишком многочисленные категории commodity_desc', 'sub_commodity_desc', 'curr_size_of_product' 'manufacturer','commodity_desc',\n",
    "#'manufacturer', 'department', 'brand', 'commodity_desc','sub_commodity_desc', 'curr_size_of_product'\n",
    "# .drop(columns=['sub_commodity_desc', 'curr_size_of_product'])\n",
    "item_feat = pd.DataFrame(user_item_matrix.columns)\n",
    "item_feat = item_feat.merge(item_features, on='item_id', how='left')\n",
    "item_feat.set_index('item_id', inplace=True)\n",
    "\n",
    "user_feat.head(2)"
   ]
  },
  {
   "cell_type": "code",
   "execution_count": 739,
   "metadata": {
    "executionInfo": {
     "elapsed": 2,
     "status": "ok",
     "timestamp": 1634560119376,
     "user": {
      "displayName": "Николай -",
      "photoUrl": "https://lh3.googleusercontent.com/a-/AOh14GiCS90olAsBznR3WLZOaJ5ukcv2LPYBRWvHEQUZ-A=s64",
      "userId": "17372739142422056321"
     },
     "user_tz": -180
    },
    "id": "RaCbdMGh8Zfn"
   },
   "outputs": [],
   "source": [
    "user_feat_lightfm = pd.get_dummies(user_feat, columns=user_feat.columns.tolist())"
   ]
  },
  {
   "cell_type": "code",
   "execution_count": 740,
   "metadata": {
    "colab": {
     "base_uri": "https://localhost:8080/",
     "height": 179
    },
    "executionInfo": {
     "elapsed": 5,
     "status": "ok",
     "timestamp": 1634560120698,
     "user": {
      "displayName": "Николай -",
      "photoUrl": "https://lh3.googleusercontent.com/a-/AOh14GiCS90olAsBznR3WLZOaJ5ukcv2LPYBRWvHEQUZ-A=s64",
      "userId": "17372739142422056321"
     },
     "user_tz": -180
    },
    "id": "zgjRedms8Zfn",
    "outputId": "afebe155-39e3-47c8-9ce4-8f0d52802db7"
   },
   "outputs": [],
   "source": [
    "#user_feat_lightfm.head(2)"
   ]
  },
  {
   "cell_type": "code",
   "execution_count": 741,
   "metadata": {
    "executionInfo": {
     "elapsed": 2,
     "status": "ok",
     "timestamp": 1634560119376,
     "user": {
      "displayName": "Николай -",
      "photoUrl": "https://lh3.googleusercontent.com/a-/AOh14GiCS90olAsBznR3WLZOaJ5ukcv2LPYBRWvHEQUZ-A=s64",
      "userId": "17372739142422056321"
     },
     "user_tz": -180
    },
    "id": "RaCbdMGh8Zfn"
   },
   "outputs": [],
   "source": [
    "item_feat_lightfm = pd.get_dummies(item_feat, columns=item_feat.columns.tolist())"
   ]
  },
  {
   "cell_type": "code",
   "execution_count": 742,
   "metadata": {
    "colab": {
     "base_uri": "https://localhost:8080/",
     "height": 301
    },
    "executionInfo": {
     "elapsed": 440,
     "status": "ok",
     "timestamp": 1634560122099,
     "user": {
      "displayName": "Николай -",
      "photoUrl": "https://lh3.googleusercontent.com/a-/AOh14GiCS90olAsBznR3WLZOaJ5ukcv2LPYBRWvHEQUZ-A=s64",
      "userId": "17372739142422056321"
     },
     "user_tz": -180
    },
    "id": "ujl-_ly48Zfo",
    "outputId": "7ba1ee12-8add-4210-a778-9ab48518bbaa"
   },
   "outputs": [],
   "source": [
    "#item_feat_lightfm.head()"
   ]
  },
  {
   "cell_type": "code",
   "execution_count": 692,
   "metadata": {
    "colab": {
     "base_uri": "https://localhost:8080/"
    },
    "executionInfo": {
     "elapsed": 8799,
     "status": "ok",
     "timestamp": 1634560131952,
     "user": {
      "displayName": "Николай -",
      "photoUrl": "https://lh3.googleusercontent.com/a-/AOh14GiCS90olAsBznR3WLZOaJ5ukcv2LPYBRWvHEQUZ-A=s64",
      "userId": "17372739142422056321"
     },
     "user_tz": -180
    },
    "id": "D6iwYZSf8Zfo",
    "outputId": "dba33774-08e0-4e76-bd59-d67e670aa49f"
   },
   "outputs": [
    {
     "data": {
      "text/plain": [
       "<lightfm.lightfm.LightFM at 0x7fbd9dbfd2d0>"
      ]
     },
     "execution_count": 692,
     "metadata": {},
     "output_type": "execute_result"
    }
   ],
   "source": [
    "model = LightFM(no_components=44,\n",
    "                loss='bpr', # 'warp' 'bpr'\n",
    "                learning_rate=0.05, \n",
    "                item_alpha=0.1, user_alpha=0.1, \n",
    "                random_state=42)\n",
    "\n",
    "model.fit((sparse_user_item > 0) * 1,  # user-item matrix из 0 и 1\n",
    "          sample_weight=coo_matrix(user_item_matrix),\n",
    "          user_features=csr_matrix(user_feat_lightfm.values).tocsr(),\n",
    "          item_features=csr_matrix(item_feat_lightfm.values).tocsr(),\n",
    "          epochs=15, \n",
    "          num_threads=4) "
   ]
  },
  {
   "cell_type": "code",
   "execution_count": 693,
   "metadata": {
    "executionInfo": {
     "elapsed": 104,
     "status": "ok",
     "timestamp": 1634560131954,
     "user": {
      "displayName": "Николай -",
      "photoUrl": "https://lh3.googleusercontent.com/a-/AOh14GiCS90olAsBznR3WLZOaJ5ukcv2LPYBRWvHEQUZ-A=s64",
      "userId": "17372739142422056321"
     },
     "user_tz": -180
    },
    "id": "H_XgCtC98Zfp"
   },
   "outputs": [],
   "source": [
    "user_biases_emb = model.get_user_representations(\n",
    "    features=csr_matrix(user_feat_lightfm.values).tocsr()\n",
    ")"
   ]
  },
  {
   "cell_type": "markdown",
   "metadata": {
    "id": "i_KaXMAqTMB3"
   },
   "source": [
    "Зачем мы снова передаем фичи пользователей? Ведь модель уже обучилась на них\n",
    "\n",
    "Ответ - для передачи новых значений фичей $f_k$. Эмбеддинги мы действительно уже зафиксировали."
   ]
  },
  {
   "cell_type": "code",
   "execution_count": 694,
   "metadata": {
    "colab": {
     "base_uri": "https://localhost:8080/"
    },
    "executionInfo": {
     "elapsed": 104,
     "status": "ok",
     "timestamp": 1634560131955,
     "user": {
      "displayName": "Николай -",
      "photoUrl": "https://lh3.googleusercontent.com/a-/AOh14GiCS90olAsBznR3WLZOaJ5ukcv2LPYBRWvHEQUZ-A=s64",
      "userId": "17372739142422056321"
     },
     "user_tz": -180
    },
    "id": "7xewaM7X8Zfp",
    "outputId": "1400f9e6-6e9b-4beb-ed03-f238d50facd3"
   },
   "outputs": [
    {
     "data": {
      "text/plain": [
       "2"
      ]
     },
     "execution_count": 694,
     "metadata": {},
     "output_type": "execute_result"
    }
   ],
   "source": [
    "len(user_biases_emb)"
   ]
  },
  {
   "cell_type": "code",
   "execution_count": 695,
   "metadata": {
    "colab": {
     "base_uri": "https://localhost:8080/"
    },
    "executionInfo": {
     "elapsed": 97,
     "status": "ok",
     "timestamp": 1634560131956,
     "user": {
      "displayName": "Николай -",
      "photoUrl": "https://lh3.googleusercontent.com/a-/AOh14GiCS90olAsBznR3WLZOaJ5ukcv2LPYBRWvHEQUZ-A=s64",
      "userId": "17372739142422056321"
     },
     "user_tz": -180
    },
    "id": "LH0epFp68Zfp",
    "outputId": "132a9e86-89e8-418d-8670-3344f591afcf"
   },
   "outputs": [
    {
     "data": {
      "text/plain": [
       "(2497,)"
      ]
     },
     "execution_count": 695,
     "metadata": {},
     "output_type": "execute_result"
    }
   ],
   "source": [
    "user_biases_emb[0].shape"
   ]
  },
  {
   "cell_type": "markdown",
   "metadata": {
    "id": "gnY7N_OKWDmP"
   },
   "source": [
    "по 1 числу для каждого пользователя $b_u$ "
   ]
  },
  {
   "cell_type": "code",
   "execution_count": 696,
   "metadata": {
    "colab": {
     "base_uri": "https://localhost:8080/"
    },
    "executionInfo": {
     "elapsed": 89,
     "status": "ok",
     "timestamp": 1634560131957,
     "user": {
      "displayName": "Николай -",
      "photoUrl": "https://lh3.googleusercontent.com/a-/AOh14GiCS90olAsBznR3WLZOaJ5ukcv2LPYBRWvHEQUZ-A=s64",
      "userId": "17372739142422056321"
     },
     "user_tz": -180
    },
    "id": "iZ69dVLT8Zfq",
    "outputId": "1aa17a22-003e-4c48-ef0f-d2291813442e"
   },
   "outputs": [
    {
     "data": {
      "text/plain": [
       "(2497, 44)"
      ]
     },
     "execution_count": 696,
     "metadata": {},
     "output_type": "execute_result"
    }
   ],
   "source": [
    "user_biases_emb[1].shape"
   ]
  },
  {
   "cell_type": "markdown",
   "metadata": {
    "id": "iRYVFr3XWTVz"
   },
   "source": [
    "тк no_components = 10"
   ]
  },
  {
   "cell_type": "code",
   "execution_count": 697,
   "metadata": {
    "executionInfo": {
     "elapsed": 70,
     "status": "ok",
     "timestamp": 1634560131958,
     "user": {
      "displayName": "Николай -",
      "photoUrl": "https://lh3.googleusercontent.com/a-/AOh14GiCS90olAsBznR3WLZOaJ5ukcv2LPYBRWvHEQUZ-A=s64",
      "userId": "17372739142422056321"
     },
     "user_tz": -180
    },
    "id": "hdUZyCD08Zfq"
   },
   "outputs": [],
   "source": [
    "item_emb = model.get_item_representations(\n",
    "    features=csr_matrix(item_feat_lightfm.values).tocsr())"
   ]
  },
  {
   "cell_type": "code",
   "execution_count": 698,
   "metadata": {
    "colab": {
     "base_uri": "https://localhost:8080/"
    },
    "executionInfo": {
     "elapsed": 69,
     "status": "ok",
     "timestamp": 1634560131959,
     "user": {
      "displayName": "Николай -",
      "photoUrl": "https://lh3.googleusercontent.com/a-/AOh14GiCS90olAsBznR3WLZOaJ5ukcv2LPYBRWvHEQUZ-A=s64",
      "userId": "17372739142422056321"
     },
     "user_tz": -180
    },
    "id": "gQPCFEs68Zfq",
    "outputId": "5339b818-3878-4527-fae4-85f0fcbf2bc7"
   },
   "outputs": [
    {
     "data": {
      "text/plain": [
       "(5001,)"
      ]
     },
     "execution_count": 698,
     "metadata": {},
     "output_type": "execute_result"
    }
   ],
   "source": [
    "item_emb[0].shape"
   ]
  },
  {
   "cell_type": "code",
   "execution_count": 699,
   "metadata": {
    "colab": {
     "base_uri": "https://localhost:8080/"
    },
    "executionInfo": {
     "elapsed": 60,
     "status": "ok",
     "timestamp": 1634560131960,
     "user": {
      "displayName": "Николай -",
      "photoUrl": "https://lh3.googleusercontent.com/a-/AOh14GiCS90olAsBznR3WLZOaJ5ukcv2LPYBRWvHEQUZ-A=s64",
      "userId": "17372739142422056321"
     },
     "user_tz": -180
    },
    "id": "p7BAxRRwWWpZ",
    "outputId": "8cccdc1a-87ad-40e3-a1c1-2f6eed9731b6"
   },
   "outputs": [
    {
     "data": {
      "text/plain": [
       "(5001, 44)"
      ]
     },
     "execution_count": 699,
     "metadata": {},
     "output_type": "execute_result"
    }
   ],
   "source": [
    "item_emb[1].shape"
   ]
  },
  {
   "cell_type": "code",
   "execution_count": 700,
   "metadata": {
    "executionInfo": {
     "elapsed": 4722,
     "status": "ok",
     "timestamp": 1634560138541,
     "user": {
      "displayName": "Николай -",
      "photoUrl": "https://lh3.googleusercontent.com/a-/AOh14GiCS90olAsBznR3WLZOaJ5ukcv2LPYBRWvHEQUZ-A=s64",
      "userId": "17372739142422056321"
     },
     "user_tz": -180
    },
    "id": "T82BNs0C8Zfq"
   },
   "outputs": [],
   "source": [
    "train_precision = pr(model, sparse_user_item, \n",
    "                                 user_features=csr_matrix(user_feat_lightfm.values).tocsr(),\n",
    "                                 item_features=csr_matrix(item_feat_lightfm.values).tocsr(),\n",
    "                                 k=5).mean()"
   ]
  },
  {
   "cell_type": "code",
   "execution_count": 701,
   "metadata": {
    "colab": {
     "base_uri": "https://localhost:8080/"
    },
    "executionInfo": {
     "elapsed": 29,
     "status": "ok",
     "timestamp": 1634560138546,
     "user": {
      "displayName": "Николай -",
      "photoUrl": "https://lh3.googleusercontent.com/a-/AOh14GiCS90olAsBznR3WLZOaJ5ukcv2LPYBRWvHEQUZ-A=s64",
      "userId": "17372739142422056321"
     },
     "user_tz": -180
    },
    "id": "Ghn1VVOW8Zfq",
    "outputId": "aa0a6fc1-f096-4291-ddca-195a55c94826"
   },
   "outputs": [
    {
     "data": {
      "text/plain": [
       "0.21097319"
      ]
     },
     "execution_count": 701,
     "metadata": {},
     "output_type": "execute_result"
    }
   ],
   "source": [
    "train_precision"
   ]
  },
  {
   "cell_type": "code",
   "execution_count": 702,
   "metadata": {
    "colab": {
     "base_uri": "https://localhost:8080/",
     "height": 487
    },
    "executionInfo": {
     "elapsed": 28,
     "status": "ok",
     "timestamp": 1634560138551,
     "user": {
      "displayName": "Николай -",
      "photoUrl": "https://lh3.googleusercontent.com/a-/AOh14GiCS90olAsBznR3WLZOaJ5ukcv2LPYBRWvHEQUZ-A=s64",
      "userId": "17372739142422056321"
     },
     "user_tz": -180
    },
    "id": "yte8it_J8Zfr",
    "outputId": "e8dc7389-57c5-4215-8c1a-1c7964304757"
   },
   "outputs": [],
   "source": [
    "#user_feat_lightfm"
   ]
  },
  {
   "cell_type": "code",
   "execution_count": 703,
   "metadata": {
    "colab": {
     "base_uri": "https://localhost:8080/",
     "height": 487
    },
    "executionInfo": {
     "elapsed": 28,
     "status": "ok",
     "timestamp": 1634560138554,
     "user": {
      "displayName": "Николай -",
      "photoUrl": "https://lh3.googleusercontent.com/a-/AOh14GiCS90olAsBznR3WLZOaJ5ukcv2LPYBRWvHEQUZ-A=s64",
      "userId": "17372739142422056321"
     },
     "user_tz": -180
    },
    "id": "GJN62wL3Krnf",
    "outputId": "8c9347fe-7afa-4d81-f940-a9feb5015536"
   },
   "outputs": [],
   "source": [
    "#item_feat_lightfm"
   ]
  },
  {
   "cell_type": "code",
   "execution_count": 704,
   "metadata": {
    "executionInfo": {
     "elapsed": 1857,
     "status": "ok",
     "timestamp": 1634560142551,
     "user": {
      "displayName": "Николай -",
      "photoUrl": "https://lh3.googleusercontent.com/a-/AOh14GiCS90olAsBznR3WLZOaJ5ukcv2LPYBRWvHEQUZ-A=s64",
      "userId": "17372739142422056321"
     },
     "user_tz": -180
    },
    "id": "VeH8m8TV8Zfr"
   },
   "outputs": [],
   "source": [
    "test_precision = pr(model, sparse_user_item_test, \n",
    "                                 user_features=csr_matrix(user_feat_lightfm.values).tocsr(),\n",
    "                                 item_features=csr_matrix(item_feat_lightfm.values).tocsr(),\n",
    "                                 k=5).mean()"
   ]
  },
  {
   "cell_type": "code",
   "execution_count": 705,
   "metadata": {
    "colab": {
     "base_uri": "https://localhost:8080/"
    },
    "executionInfo": {
     "elapsed": 394,
     "status": "ok",
     "timestamp": 1634560150088,
     "user": {
      "displayName": "Николай -",
      "photoUrl": "https://lh3.googleusercontent.com/a-/AOh14GiCS90olAsBznR3WLZOaJ5ukcv2LPYBRWvHEQUZ-A=s64",
      "userId": "17372739142422056321"
     },
     "user_tz": -180
    },
    "id": "rMemC2drYIA5",
    "outputId": "53dbb257-845f-4227-be30-3edb0f1912d0"
   },
   "outputs": [
    {
     "data": {
      "text/plain": [
       "0.002609132"
      ]
     },
     "execution_count": 705,
     "metadata": {},
     "output_type": "execute_result"
    }
   ],
   "source": [
    "test_precision"
   ]
  },
  {
   "cell_type": "code",
   "execution_count": 706,
   "metadata": {
    "executionInfo": {
     "elapsed": 376,
     "status": "ok",
     "timestamp": 1634560164978,
     "user": {
      "displayName": "Николай -",
      "photoUrl": "https://lh3.googleusercontent.com/a-/AOh14GiCS90olAsBznR3WLZOaJ5ukcv2LPYBRWvHEQUZ-A=s64",
      "userId": "17372739142422056321"
     },
     "user_tz": -180
    },
    "id": "KvVB_nlM8Zfr"
   },
   "outputs": [],
   "source": [
    "test_item_ids = np.arange(len(itemids))\n",
    "\n",
    "predictions = model.predict(user_ids=6, item_ids=test_item_ids,\n",
    "                            user_features=csr_matrix(user_feat_lightfm.values).tocsr(),\n",
    "                            item_features=csr_matrix(item_feat_lightfm.values).tocsr(),\n",
    "                            num_threads=4)"
   ]
  },
  {
   "cell_type": "code",
   "execution_count": 707,
   "metadata": {
    "colab": {
     "base_uri": "https://localhost:8080/"
    },
    "executionInfo": {
     "elapsed": 7,
     "status": "ok",
     "timestamp": 1634560166405,
     "user": {
      "displayName": "Николай -",
      "photoUrl": "https://lh3.googleusercontent.com/a-/AOh14GiCS90olAsBznR3WLZOaJ5ukcv2LPYBRWvHEQUZ-A=s64",
      "userId": "17372739142422056321"
     },
     "user_tz": -180
    },
    "id": "hcyj6Ukr8Zfs",
    "outputId": "f541eb5d-91ba-4163-8498-e84600064f2a"
   },
   "outputs": [
    {
     "data": {
      "text/plain": [
       "array([-2.06264570e+04, -2.19433633e+04, -2.19440410e+04, ...,\n",
       "       -1.31767304e+08, -1.31767304e+08, -1.31767304e+08], dtype=float32)"
      ]
     },
     "execution_count": 707,
     "metadata": {},
     "output_type": "execute_result"
    }
   ],
   "source": [
    "np.sort(predictions)[::-1]"
   ]
  },
  {
   "cell_type": "markdown",
   "metadata": {
    "id": "i1gJ8vm28Zfs"
   },
   "source": [
    "predictions - некоторые числа. "
   ]
  },
  {
   "cell_type": "code",
   "execution_count": 743,
   "metadata": {},
   "outputs": [
    {
     "data": {
      "text/plain": [
       "<lightfm.lightfm.LightFM at 0x7fbf5fa25690>"
      ]
     },
     "execution_count": 743,
     "metadata": {},
     "output_type": "execute_result"
    }
   ],
   "source": [
    "model = LightFM(no_components=44,\n",
    "                loss='warp', # 'warp' 'bpr'\n",
    "                learning_rate=0.05, \n",
    "                item_alpha=0.1, user_alpha=0.1, #если убирать фичи товара, то здесь только с нулями считает пресижн\n",
    "                random_state=42)\n",
    "\n",
    "model.fit((sparse_user_item > 0) * 1,  # user-item matrix из 0 и 1\n",
    "          sample_weight=coo_matrix(user_item_matrix),\n",
    "          user_features=csr_matrix(user_feat_lightfm.values).tocsr(),\n",
    "          item_features=csr_matrix(item_feat_lightfm.values).tocsr(),\n",
    "          epochs=15, \n",
    "          num_threads=4) "
   ]
  },
  {
   "cell_type": "code",
   "execution_count": 744,
   "metadata": {},
   "outputs": [
    {
     "data": {
      "text/plain": [
       "0.29411295"
      ]
     },
     "execution_count": 744,
     "metadata": {},
     "output_type": "execute_result"
    }
   ],
   "source": [
    "train_precision = pr(model, sparse_user_item, \n",
    "                                 user_features=csr_matrix(user_feat_lightfm.values).tocsr(),\n",
    "                                 item_features=csr_matrix(item_feat_lightfm.values).tocsr(),\n",
    "                                 k=5).mean()\n",
    "train_precision"
   ]
  },
  {
   "cell_type": "code",
   "execution_count": 710,
   "metadata": {},
   "outputs": [
    {
     "name": "stdout",
     "output_type": "stream",
     "text": [
      "CPU times: user 32min 57s, sys: 23 s, total: 33min 20s\n",
      "Wall time: 36min 8s\n"
     ]
    }
   ],
   "source": [
    "%%time\n",
    "no_components_list = [10, 30, 44, 60, 100] # уменьшала признаки товаров, уменьшала num_threads=4\n",
    "loss_list = ['bpr', 'warp']\n",
    "item_alpha_list = [0.05, 0.1] #c 0.15 и больше выходила ошибка\n",
    "user_alpha_list = [0.05, 0.1]\n",
    "params = []\n",
    "\n",
    "\n",
    "for components in no_components_list:\n",
    "    for loss in loss_list:\n",
    "        for item_alpha in item_alpha_list:\n",
    "            for user_alpha in user_alpha_list:\n",
    "                \n",
    "                \n",
    "                model = LightFM(no_components=components,\n",
    "                                loss=loss,\n",
    "                                learning_rate=0.05,\n",
    "                                item_alpha=item_alpha, \n",
    "                                user_alpha=user_alpha,\n",
    "                                random_state=42)\n",
    "                \n",
    "                model.fit((sparse_user_item > 0) * 1,  # user-item matrix из 0 и 1\n",
    "                          sample_weight=coo_matrix(user_item_matrix),  \n",
    "                          user_features=csr_matrix(user_feat_lightfm.values).tocsr(),\n",
    "                          item_features=csr_matrix(item_feat_lightfm.values).tocsr(),\n",
    "                          epochs=15, num_threads=4)\n",
    "                precision = pr(model, sparse_user_item, \n",
    "                                 user_features=csr_matrix(user_feat_lightfm.values).tocsr(),\n",
    "                                 item_features=csr_matrix(item_feat_lightfm.values).tocsr(),\n",
    "                                 k=5).mean()\n",
    "                \n",
    "                params_row = []\n",
    "                params_row.append([components, loss, item_alpha, user_alpha, precision])\n",
    "                params.append(params_row)               "
   ]
  },
  {
   "cell_type": "code",
   "execution_count": 711,
   "metadata": {},
   "outputs": [
    {
     "name": "stdout",
     "output_type": "stream",
     "text": [
      "no_comp: 10, loss: warp, item_a: 0.05, user_a: 0.05, precision: 0.2941129505634308\n",
      "no_comp: 10, loss: warp, item_a: 0.1, user_a: 0.05, precision: 0.2941129505634308\n",
      "no_comp: 10, loss: warp, item_a: 0.1, user_a: 0.1, precision: 0.2941129505634308\n",
      "no_comp: 30, loss: warp, item_a: 0.05, user_a: 0.05, precision: 0.2941129505634308\n",
      "no_comp: 30, loss: warp, item_a: 0.1, user_a: 0.05, precision: 0.2941129505634308\n",
      "no_comp: 30, loss: warp, item_a: 0.1, user_a: 0.1, precision: 0.2941129505634308\n",
      "no_comp: 44, loss: warp, item_a: 0.05, user_a: 0.05, precision: 0.2941129505634308\n",
      "no_comp: 44, loss: warp, item_a: 0.1, user_a: 0.05, precision: 0.2941129505634308\n",
      "no_comp: 44, loss: warp, item_a: 0.1, user_a: 0.1, precision: 0.2941129505634308\n",
      "no_comp: 60, loss: warp, item_a: 0.05, user_a: 0.05, precision: 0.2941129505634308\n",
      "no_comp: 60, loss: warp, item_a: 0.1, user_a: 0.05, precision: 0.2941129505634308\n",
      "no_comp: 60, loss: warp, item_a: 0.1, user_a: 0.1, precision: 0.2941129505634308\n",
      "no_comp: 100, loss: warp, item_a: 0.05, user_a: 0.05, precision: 0.2941129505634308\n",
      "no_comp: 100, loss: warp, item_a: 0.1, user_a: 0.05, precision: 0.2941129505634308\n",
      "no_comp: 100, loss: warp, item_a: 0.1, user_a: 0.1, precision: 0.2941129505634308\n",
      "no_comp: 10, loss: bpr, item_a: 0.1, user_a: 0.05, precision: 0.29403287172317505\n",
      "no_comp: 10, loss: bpr, item_a: 0.05, user_a: 0.05, precision: 0.2116139531135559\n",
      "no_comp: 30, loss: bpr, item_a: 0.05, user_a: 0.05, precision: 0.2116139531135559\n",
      "no_comp: 44, loss: bpr, item_a: 0.05, user_a: 0.05, precision: 0.2116139531135559\n",
      "no_comp: 60, loss: bpr, item_a: 0.05, user_a: 0.05, precision: 0.2116139531135559\n",
      "no_comp: 100, loss: bpr, item_a: 0.05, user_a: 0.05, precision: 0.2116139531135559\n",
      "no_comp: 100, loss: bpr, item_a: 0.1, user_a: 0.05, precision: 0.21129359304904938\n",
      "no_comp: 30, loss: bpr, item_a: 0.05, user_a: 0.1, precision: 0.21097318828105927\n",
      "no_comp: 30, loss: bpr, item_a: 0.1, user_a: 0.1, precision: 0.21097318828105927\n",
      "no_comp: 44, loss: bpr, item_a: 0.05, user_a: 0.1, precision: 0.21097318828105927\n",
      "no_comp: 44, loss: bpr, item_a: 0.1, user_a: 0.1, precision: 0.21097318828105927\n",
      "no_comp: 60, loss: bpr, item_a: 0.05, user_a: 0.1, precision: 0.21097318828105927\n",
      "no_comp: 60, loss: bpr, item_a: 0.1, user_a: 0.1, precision: 0.21097318828105927\n",
      "no_comp: 100, loss: bpr, item_a: 0.05, user_a: 0.1, precision: 0.21097318828105927\n",
      "no_comp: 100, loss: bpr, item_a: 0.1, user_a: 0.1, precision: 0.21097318828105927\n",
      "no_comp: 10, loss: bpr, item_a: 0.05, user_a: 0.1, precision: 0.207609161734581\n",
      "no_comp: 10, loss: bpr, item_a: 0.1, user_a: 0.1, precision: 0.207609161734581\n",
      "no_comp: 30, loss: bpr, item_a: 0.1, user_a: 0.05, precision: 0.207609161734581\n",
      "no_comp: 44, loss: bpr, item_a: 0.1, user_a: 0.05, precision: 0.207609161734581\n",
      "no_comp: 60, loss: bpr, item_a: 0.1, user_a: 0.05, precision: 0.207609161734581\n",
      "no_comp: 10, loss: warp, item_a: 0.05, user_a: 0.1, precision: 0.14689628779888153\n",
      "no_comp: 30, loss: warp, item_a: 0.05, user_a: 0.1, precision: 0.14689628779888153\n",
      "no_comp: 44, loss: warp, item_a: 0.05, user_a: 0.1, precision: 0.14689628779888153\n",
      "no_comp: 60, loss: warp, item_a: 0.05, user_a: 0.1, precision: 0.14689628779888153\n",
      "no_comp: 100, loss: warp, item_a: 0.05, user_a: 0.1, precision: 0.14689628779888153\n"
     ]
    }
   ],
   "source": [
    "for i in sorted(params, key=lambda x: x[0][4], reverse=True):\n",
    "    \n",
    "    print(f'no_comp: {i[0][0]}, loss: {i[0][1]}, item_a: {i[0][2]}, user_a: {i[0][3]}, precision: {i[0][4]}')"
   ]
  },
  {
   "cell_type": "code",
   "execution_count": null,
   "metadata": {},
   "outputs": [],
   "source": [
    "# Подскажите, почему с warp получаются нули на precision? в чем дело, ведь в целом с ним лучше должен был быть precision\n",
    "# и здесь более важная оказалась user alpha, чем она больше, тем выше метрика"
   ]
  }
 ],
 "metadata": {
  "kernelspec": {
   "display_name": "Python 3",
   "language": "python",
   "name": "python3"
  },
  "language_info": {
   "codemirror_mode": {
    "name": "ipython",
    "version": 3
   },
   "file_extension": ".py",
   "mimetype": "text/x-python",
   "name": "python",
   "nbconvert_exporter": "python",
   "pygments_lexer": "ipython3",
   "version": "3.7.11"
  }
 },
 "nbformat": 4,
 "nbformat_minor": 2
}
